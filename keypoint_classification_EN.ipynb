{
 "cells": [
  {
   "cell_type": "code",
   "execution_count": 2,
   "metadata": {
    "scrolled": false
   },
   "outputs": [
    {
     "name": "stdout",
     "output_type": "stream",
     "text": [
      "Defaulting to user installation because normal site-packages is not writeable\n",
      "Requirement already satisfied: pydot in /home/yash/.local/lib/python3.10/site-packages (1.4.2)\n",
      "Requirement already satisfied: pyparsing>=2.1.4 in /usr/lib/python3.10/site-packages (from pydot) (3.0.9)\n",
      "Defaulting to user installation because normal site-packages is not writeable\n",
      "Requirement already satisfied: graphviz in /home/yash/.local/lib/python3.10/site-packages (0.20)\n",
      "Defaulting to user installation because normal site-packages is not writeable\n",
      "Requirement already satisfied: pydotplus in /home/yash/.local/lib/python3.10/site-packages (2.0.2)\n",
      "Requirement already satisfied: pyparsing>=2.0.1 in /usr/lib/python3.10/site-packages (from pydotplus) (3.0.9)\n"
     ]
    }
   ],
   "source": [
    "!pip install pydot\n",
    "!pip install graphviz\n",
    "!pip install pydotplus"
   ]
  },
  {
   "cell_type": "code",
   "execution_count": 3,
   "metadata": {
    "id": "igMyGnjE9hEp"
   },
   "outputs": [
    {
     "name": "stderr",
     "output_type": "stream",
     "text": [
      "2022-06-10 12:19:52.310089: W tensorflow/stream_executor/platform/default/dso_loader.cc:64] Could not load dynamic library 'libcudart.so.11.0'; dlerror: libcudart.so.11.0: cannot open shared object file: No such file or directory\n",
      "2022-06-10 12:19:52.310141: I tensorflow/stream_executor/cuda/cudart_stub.cc:29] Ignore above cudart dlerror if you do not have a GPU set up on your machine.\n"
     ]
    }
   ],
   "source": [
    "import csv\n",
    "\n",
    "import numpy as np\n",
    "import tensorflow as tf\n",
    "from sklearn.model_selection import train_test_split\n",
    "\n",
    "RANDOM_SEED = 42"
   ]
  },
  {
   "cell_type": "markdown",
   "metadata": {
    "id": "t2HDvhIu9hEr"
   },
   "source": [
    "# Specify each path"
   ]
  },
  {
   "cell_type": "code",
   "execution_count": 4,
   "metadata": {
    "id": "9NvZP2Zn9hEy"
   },
   "outputs": [],
   "source": [
    "dataset = 'model/keypoint_classifier/keypoint.csv'\n",
    "model_save_path = 'model/keypoint_classifier/keypoint_classifier.hdf5'\n",
    "tflite_save_path = 'model/keypoint_classifier/keypoint_classifier.tflite'"
   ]
  },
  {
   "cell_type": "markdown",
   "metadata": {
    "id": "s5oMH7x19hEz"
   },
   "source": [
    "# Set number of classes"
   ]
  },
  {
   "cell_type": "code",
   "execution_count": 5,
   "metadata": {
    "id": "du4kodXL9hEz"
   },
   "outputs": [],
   "source": [
    "NUM_CLASSES = 4"
   ]
  },
  {
   "cell_type": "markdown",
   "metadata": {
    "id": "XjnL0uso9hEz"
   },
   "source": [
    "# Dataset reading"
   ]
  },
  {
   "cell_type": "code",
   "execution_count": 6,
   "metadata": {
    "id": "QT5ZqtEz9hE0"
   },
   "outputs": [],
   "source": [
    "X_dataset = np.loadtxt(dataset, delimiter=',', dtype='float32', usecols=list(range(1, (21 * 2) + 1)))"
   ]
  },
  {
   "cell_type": "code",
   "execution_count": 7,
   "metadata": {
    "id": "QmoKFsp49hE0"
   },
   "outputs": [],
   "source": [
    "y_dataset = np.loadtxt(dataset, delimiter=',', dtype='int32', usecols=(0))"
   ]
  },
  {
   "cell_type": "code",
   "execution_count": 8,
   "metadata": {
    "id": "xQU7JTZ_9hE0"
   },
   "outputs": [],
   "source": [
    "X_train, X_test, y_train, y_test = train_test_split(X_dataset, y_dataset, train_size=0.75, random_state=RANDOM_SEED)"
   ]
  },
  {
   "cell_type": "markdown",
   "metadata": {
    "id": "mxK_lETT9hE0"
   },
   "source": [
    "# Model building"
   ]
  },
  {
   "cell_type": "code",
   "execution_count": 9,
   "metadata": {
    "id": "vHBmUf1t9hE1"
   },
   "outputs": [
    {
     "name": "stderr",
     "output_type": "stream",
     "text": [
      "2022-06-10 12:20:21.406709: I tensorflow/stream_executor/cuda/cuda_gpu_executor.cc:936] successful NUMA node read from SysFS had negative value (-1), but there must be at least one NUMA node, so returning NUMA node zero\n",
      "2022-06-10 12:20:21.407677: W tensorflow/stream_executor/platform/default/dso_loader.cc:64] Could not load dynamic library 'libcudart.so.11.0'; dlerror: libcudart.so.11.0: cannot open shared object file: No such file or directory\n",
      "2022-06-10 12:20:21.408021: W tensorflow/stream_executor/platform/default/dso_loader.cc:64] Could not load dynamic library 'libcublas.so.11'; dlerror: libcublas.so.11: cannot open shared object file: No such file or directory\n",
      "2022-06-10 12:20:21.408304: W tensorflow/stream_executor/platform/default/dso_loader.cc:64] Could not load dynamic library 'libcublasLt.so.11'; dlerror: libcublasLt.so.11: cannot open shared object file: No such file or directory\n",
      "2022-06-10 12:20:21.408580: W tensorflow/stream_executor/platform/default/dso_loader.cc:64] Could not load dynamic library 'libcufft.so.10'; dlerror: libcufft.so.10: cannot open shared object file: No such file or directory\n",
      "2022-06-10 12:20:21.408854: W tensorflow/stream_executor/platform/default/dso_loader.cc:64] Could not load dynamic library 'libcurand.so.10'; dlerror: libcurand.so.10: cannot open shared object file: No such file or directory\n",
      "2022-06-10 12:20:21.409126: W tensorflow/stream_executor/platform/default/dso_loader.cc:64] Could not load dynamic library 'libcusolver.so.11'; dlerror: libcusolver.so.11: cannot open shared object file: No such file or directory\n",
      "2022-06-10 12:20:21.409400: W tensorflow/stream_executor/platform/default/dso_loader.cc:64] Could not load dynamic library 'libcusparse.so.11'; dlerror: libcusparse.so.11: cannot open shared object file: No such file or directory\n",
      "2022-06-10 12:20:21.409671: W tensorflow/stream_executor/platform/default/dso_loader.cc:64] Could not load dynamic library 'libcudnn.so.8'; dlerror: libcudnn.so.8: cannot open shared object file: No such file or directory\n",
      "2022-06-10 12:20:21.409716: W tensorflow/core/common_runtime/gpu/gpu_device.cc:1850] Cannot dlopen some GPU libraries. Please make sure the missing libraries mentioned above are installed properly if you would like to use GPU. Follow the guide at https://www.tensorflow.org/install/gpu for how to download and setup the required libraries for your platform.\n",
      "Skipping registering GPU devices...\n",
      "2022-06-10 12:20:21.428181: I tensorflow/core/platform/cpu_feature_guard.cc:151] This TensorFlow binary is optimized with oneAPI Deep Neural Network Library (oneDNN) to use the following CPU instructions in performance-critical operations:  AVX2 FMA\n",
      "To enable them in other operations, rebuild TensorFlow with the appropriate compiler flags.\n"
     ]
    }
   ],
   "source": [
    "model = tf.keras.models.Sequential([\n",
    "    tf.keras.layers.Input((21 * 2, )),\n",
    "    tf.keras.layers.Dropout(0.2),\n",
    "    tf.keras.layers.Dense(20, activation='relu'),\n",
    "    tf.keras.layers.Dropout(0.4),\n",
    "    tf.keras.layers.Dense(10, activation='relu'),\n",
    "    tf.keras.layers.Dense(NUM_CLASSES, activation='softmax')\n",
    "])"
   ]
  },
  {
   "cell_type": "code",
   "execution_count": 10,
   "metadata": {
    "colab": {
     "base_uri": "https://localhost:8080/"
    },
    "id": "ypqky9tc9hE1",
    "outputId": "5db082bb-30e3-4110-bf63-a1ee777ecd46",
    "scrolled": false
   },
   "outputs": [
    {
     "name": "stdout",
     "output_type": "stream",
     "text": [
      "Model: \"sequential\"\n",
      "_________________________________________________________________\n",
      " Layer (type)                Output Shape              Param #   \n",
      "=================================================================\n",
      " dropout (Dropout)           (None, 42)                0         \n",
      "                                                                 \n",
      " dense (Dense)               (None, 20)                860       \n",
      "                                                                 \n",
      " dropout_1 (Dropout)         (None, 20)                0         \n",
      "                                                                 \n",
      " dense_1 (Dense)             (None, 10)                210       \n",
      "                                                                 \n",
      " dense_2 (Dense)             (None, 4)                 44        \n",
      "                                                                 \n",
      "=================================================================\n",
      "Total params: 1,114\n",
      "Trainable params: 1,114\n",
      "Non-trainable params: 0\n",
      "_________________________________________________________________\n"
     ]
    },
    {
     "data": {
      "image/png": "[encoded data removed]",
      "text/plain": [
       "<IPython.core.display.Image object>"
      ]
     },
     "execution_count": 10,
     "metadata": {},
     "output_type": "execute_result"
    }
   ],
   "source": [
    "from tensorflow.keras.utils import plot_model\n",
    "model.summary()  # tf.keras.utils.plot_model(model, show_shapes=True)\n",
    "plot_model(model, to_file='model_plot.png', show_shapes=True, show_layer_names=True)"
   ]
  },
  {
   "cell_type": "code",
   "execution_count": 11,
   "metadata": {
    "id": "MbMjOflQ9hE1"
   },
   "outputs": [],
   "source": [
    "# Model checkpoint callback\n",
    "cp_callback = tf.keras.callbacks.ModelCheckpoint(\n",
    "    model_save_path, verbose=1, save_weights_only=False)\n",
    "# Callback for early stopping\n",
    "es_callback = tf.keras.callbacks.EarlyStopping(patience=20, verbose=1)"
   ]
  },
  {
   "cell_type": "code",
   "execution_count": 12,
   "metadata": {
    "id": "c3Dac0M_9hE2"
   },
   "outputs": [],
   "source": [
    "# Model compilation\n",
    "model.compile(\n",
    "    optimizer='adam',\n",
    "    loss='sparse_categorical_crossentropy',\n",
    "    metrics=['accuracy']\n",
    ")"
   ]
  },
  {
   "cell_type": "markdown",
   "metadata": {
    "id": "7XI0j1Iu9hE2"
   },
   "source": [
    "# Model training"
   ]
  },
  {
   "cell_type": "code",
   "execution_count": 13,
   "metadata": {
    "colab": {
     "base_uri": "https://localhost:8080/"
    },
    "id": "WirBl-JE9hE3",
    "outputId": "71b30ca2-8294-4d9d-8aa2-800d90d399de",
    "scrolled": true
   },
   "outputs": [
    {
     "name": "stdout",
     "output_type": "stream",
     "text": [
      "Epoch 1/1000\n",
      "10/29 [=========>....................] - ETA: 0s - loss: 1.6254 - accuracy: 0.2328 \n",
      "Epoch 1: saving model to model/keypoint_classifier/keypoint_classifier.hdf5\n",
      "29/29 [==============================] - 2s 13ms/step - loss: 1.5297 - accuracy: 0.2407 - val_loss: 1.3568 - val_accuracy: 0.2949\n",
      "Epoch 2/1000\n",
      " 1/29 [>.............................] - ETA: 0s - loss: 1.4325 - accuracy: 0.2578\n",
      "Epoch 2: saving model to model/keypoint_classifier/keypoint_classifier.hdf5\n",
      "29/29 [==============================] - 0s 3ms/step - loss: 1.3804 - accuracy: 0.2914 - val_loss: 1.2861 - val_accuracy: 0.4461\n",
      "Epoch 3/1000\n",
      " 1/29 [>.............................] - ETA: 0s - loss: 1.3505 - accuracy: 0.2656\n",
      "Epoch 3: saving model to model/keypoint_classifier/keypoint_classifier.hdf5\n",
      "29/29 [==============================] - 0s 3ms/step - loss: 1.2958 - accuracy: 0.3563 - val_loss: 1.1987 - val_accuracy: 0.5347\n",
      "Epoch 4/1000\n",
      " 1/29 [>.............................] - ETA: 0s - loss: 1.2994 - accuracy: 0.3594\n",
      "Epoch 4: saving model to model/keypoint_classifier/keypoint_classifier.hdf5\n",
      "29/29 [==============================] - 0s 3ms/step - loss: 1.2302 - accuracy: 0.4070 - val_loss: 1.1203 - val_accuracy: 0.5606\n",
      "Epoch 5/1000\n",
      " 1/29 [>.............................] - ETA: 0s - loss: 1.1966 - accuracy: 0.4844\n",
      "Epoch 5: saving model to model/keypoint_classifier/keypoint_classifier.hdf5\n",
      "29/29 [==============================] - 0s 3ms/step - loss: 1.1727 - accuracy: 0.4343 - val_loss: 1.0491 - val_accuracy: 0.5931\n",
      "Epoch 6/1000\n",
      " 1/29 [>.............................] - ETA: 0s - loss: 1.2102 - accuracy: 0.4219\n",
      "Epoch 6: saving model to model/keypoint_classifier/keypoint_classifier.hdf5\n",
      "29/29 [==============================] - 0s 3ms/step - loss: 1.1362 - accuracy: 0.4582 - val_loss: 0.9931 - val_accuracy: 0.6107\n",
      "Epoch 7/1000\n",
      " 1/29 [>.............................] - ETA: 0s - loss: 1.1076 - accuracy: 0.4688\n",
      "Epoch 7: saving model to model/keypoint_classifier/keypoint_classifier.hdf5\n",
      "29/29 [==============================] - 0s 3ms/step - loss: 1.0856 - accuracy: 0.4816 - val_loss: 0.9388 - val_accuracy: 0.6307\n",
      "Epoch 8/1000\n",
      " 1/29 [>.............................] - ETA: 0s - loss: 1.0356 - accuracy: 0.5078\n",
      "Epoch 8: saving model to model/keypoint_classifier/keypoint_classifier.hdf5\n",
      "29/29 [==============================] - 0s 3ms/step - loss: 1.0388 - accuracy: 0.5134 - val_loss: 0.8927 - val_accuracy: 0.6516\n",
      "Epoch 9/1000\n",
      " 1/29 [>.............................] - ETA: 0s - loss: 1.0137 - accuracy: 0.5156\n",
      "Epoch 9: saving model to model/keypoint_classifier/keypoint_classifier.hdf5\n",
      "29/29 [==============================] - 0s 3ms/step - loss: 1.0248 - accuracy: 0.5228 - val_loss: 0.8553 - val_accuracy: 0.6692\n",
      "Epoch 10/1000\n",
      " 1/29 [>.............................] - ETA: 0s - loss: 1.0056 - accuracy: 0.5781\n",
      "Epoch 10: saving model to model/keypoint_classifier/keypoint_classifier.hdf5\n",
      "29/29 [==============================] - 0s 3ms/step - loss: 1.0054 - accuracy: 0.5384 - val_loss: 0.8234 - val_accuracy: 0.6692\n",
      "Epoch 11/1000\n",
      " 1/29 [>.............................] - ETA: 0s - loss: 1.0272 - accuracy: 0.5547\n",
      "Epoch 11: saving model to model/keypoint_classifier/keypoint_classifier.hdf5\n",
      "29/29 [==============================] - 0s 3ms/step - loss: 0.9712 - accuracy: 0.5493 - val_loss: 0.7823 - val_accuracy: 0.6884\n",
      "Epoch 12/1000\n",
      " 1/29 [>.............................] - ETA: 0s - loss: 1.1157 - accuracy: 0.4219\n",
      "Epoch 12: saving model to model/keypoint_classifier/keypoint_classifier.hdf5\n",
      "29/29 [==============================] - 0s 3ms/step - loss: 0.9501 - accuracy: 0.5535 - val_loss: 0.7449 - val_accuracy: 0.7126\n",
      "Epoch 13/1000\n",
      " 1/29 [>.............................] - ETA: 0s - loss: 0.9226 - accuracy: 0.6016\n",
      "Epoch 13: saving model to model/keypoint_classifier/keypoint_classifier.hdf5\n",
      "29/29 [==============================] - 0s 2ms/step - loss: 0.9428 - accuracy: 0.5591 - val_loss: 0.7197 - val_accuracy: 0.7243\n",
      "Epoch 14/1000\n",
      " 1/29 [>.............................] - ETA: 0s - loss: 0.9637 - accuracy: 0.5547\n",
      "Epoch 14: saving model to model/keypoint_classifier/keypoint_classifier.hdf5\n",
      "29/29 [==============================] - 0s 3ms/step - loss: 0.9194 - accuracy: 0.5783 - val_loss: 0.6919 - val_accuracy: 0.7410\n",
      "Epoch 15/1000\n",
      " 1/29 [>.............................] - ETA: 0s - loss: 0.9730 - accuracy: 0.5078\n",
      "Epoch 15: saving model to model/keypoint_classifier/keypoint_classifier.hdf5\n",
      "29/29 [==============================] - 0s 3ms/step - loss: 0.9044 - accuracy: 0.5841 - val_loss: 0.6747 - val_accuracy: 0.7644\n",
      "Epoch 16/1000\n",
      " 1/29 [>.............................] - ETA: 0s - loss: 0.8781 - accuracy: 0.5859\n",
      "Epoch 16: saving model to model/keypoint_classifier/keypoint_classifier.hdf5\n",
      "29/29 [==============================] - 0s 3ms/step - loss: 0.8864 - accuracy: 0.5939 - val_loss: 0.6437 - val_accuracy: 0.7937\n",
      "Epoch 17/1000\n",
      " 1/29 [>.............................] - ETA: 0s - loss: 0.8987 - accuracy: 0.5547\n",
      "Epoch 17: saving model to model/keypoint_classifier/keypoint_classifier.hdf5\n",
      "29/29 [==============================] - 0s 3ms/step - loss: 0.8715 - accuracy: 0.6075 - val_loss: 0.6232 - val_accuracy: 0.8095\n",
      "Epoch 18/1000\n",
      " 1/29 [>.............................] - ETA: 0s - loss: 0.8456 - accuracy: 0.6094\n",
      "Epoch 18: saving model to model/keypoint_classifier/keypoint_classifier.hdf5\n",
      "29/29 [==============================] - 0s 3ms/step - loss: 0.8462 - accuracy: 0.6212 - val_loss: 0.5985 - val_accuracy: 0.8271\n",
      "Epoch 19/1000\n",
      " 1/29 [>.............................] - ETA: 0s - loss: 0.8267 - accuracy: 0.6484\n",
      "Epoch 19: saving model to model/keypoint_classifier/keypoint_classifier.hdf5\n",
      "29/29 [==============================] - 0s 2ms/step - loss: 0.8378 - accuracy: 0.6262 - val_loss: 0.5788 - val_accuracy: 0.8413\n",
      "Epoch 20/1000\n",
      " 1/29 [>.............................] - ETA: 0s - loss: 0.8750 - accuracy: 0.6172\n",
      "Epoch 20: saving model to model/keypoint_classifier/keypoint_classifier.hdf5\n",
      "29/29 [==============================] - 0s 3ms/step - loss: 0.8350 - accuracy: 0.6187 - val_loss: 0.5593 - val_accuracy: 0.8513\n",
      "Epoch 21/1000\n",
      " 1/29 [>.............................] - ETA: 0s - loss: 0.8367 - accuracy: 0.6250\n",
      "Epoch 21: saving model to model/keypoint_classifier/keypoint_classifier.hdf5\n",
      "29/29 [==============================] - 0s 2ms/step - loss: 0.8220 - accuracy: 0.6398 - val_loss: 0.5419 - val_accuracy: 0.8705\n",
      "Epoch 22/1000\n",
      " 1/29 [>.............................] - ETA: 0s - loss: 0.7018 - accuracy: 0.7344\n",
      "Epoch 22: saving model to model/keypoint_classifier/keypoint_classifier.hdf5\n",
      "29/29 [==============================] - 0s 3ms/step - loss: 0.8068 - accuracy: 0.6448 - val_loss: 0.5280 - val_accuracy: 0.8805\n",
      "Epoch 23/1000\n",
      " 1/29 [>.............................] - ETA: 0s - loss: 0.8409 - accuracy: 0.5625\n",
      "Epoch 23: saving model to model/keypoint_classifier/keypoint_classifier.hdf5\n",
      "29/29 [==============================] - 0s 3ms/step - loss: 0.7858 - accuracy: 0.6543 - val_loss: 0.5139 - val_accuracy: 0.8931\n",
      "Epoch 24/1000\n",
      " 1/29 [>.............................] - ETA: 0s - loss: 0.7787 - accuracy: 0.6328\n",
      "Epoch 24: saving model to model/keypoint_classifier/keypoint_classifier.hdf5\n",
      "29/29 [==============================] - 0s 3ms/step - loss: 0.7726 - accuracy: 0.6582 - val_loss: 0.4942 - val_accuracy: 0.8964\n",
      "Epoch 25/1000\n",
      " 1/29 [>.............................] - ETA: 0s - loss: 0.7256 - accuracy: 0.6953\n",
      "Epoch 25: saving model to model/keypoint_classifier/keypoint_classifier.hdf5\n",
      "29/29 [==============================] - 0s 3ms/step - loss: 0.7828 - accuracy: 0.6674 - val_loss: 0.4843 - val_accuracy: 0.8981\n",
      "Epoch 26/1000\n",
      " 1/29 [>.............................] - ETA: 0s - loss: 0.8500 - accuracy: 0.6719\n",
      "Epoch 26: saving model to model/keypoint_classifier/keypoint_classifier.hdf5\n",
      "29/29 [==============================] - 0s 3ms/step - loss: 0.7728 - accuracy: 0.6730 - val_loss: 0.4771 - val_accuracy: 0.9064\n",
      "Epoch 27/1000\n",
      " 1/29 [>.............................] - ETA: 0s - loss: 0.7633 - accuracy: 0.6797\n",
      "Epoch 27: saving model to model/keypoint_classifier/keypoint_classifier.hdf5\n",
      "29/29 [==============================] - 0s 3ms/step - loss: 0.7621 - accuracy: 0.6694 - val_loss: 0.4752 - val_accuracy: 0.9014\n",
      "Epoch 28/1000\n"
     ]
    },
    {
     "name": "stdout",
     "output_type": "stream",
     "text": [
      " 1/29 [>.............................] - ETA: 0s - loss: 0.6924 - accuracy: 0.7109\n",
      "Epoch 28: saving model to model/keypoint_classifier/keypoint_classifier.hdf5\n",
      "29/29 [==============================] - 0s 2ms/step - loss: 0.7398 - accuracy: 0.6891 - val_loss: 0.4530 - val_accuracy: 0.9123\n",
      "Epoch 29/1000\n",
      " 1/29 [>.............................] - ETA: 0s - loss: 0.7684 - accuracy: 0.6719\n",
      "Epoch 29: saving model to model/keypoint_classifier/keypoint_classifier.hdf5\n",
      "29/29 [==============================] - 0s 2ms/step - loss: 0.7293 - accuracy: 0.6805 - val_loss: 0.4443 - val_accuracy: 0.9173\n",
      "Epoch 30/1000\n",
      " 1/29 [>.............................] - ETA: 0s - loss: 0.7445 - accuracy: 0.6406\n",
      "Epoch 30: saving model to model/keypoint_classifier/keypoint_classifier.hdf5\n",
      "29/29 [==============================] - 0s 3ms/step - loss: 0.7334 - accuracy: 0.6858 - val_loss: 0.4313 - val_accuracy: 0.9131\n",
      "Epoch 31/1000\n",
      " 1/29 [>.............................] - ETA: 0s - loss: 0.7931 - accuracy: 0.6328\n",
      "Epoch 31: saving model to model/keypoint_classifier/keypoint_classifier.hdf5\n",
      "29/29 [==============================] - 0s 3ms/step - loss: 0.7401 - accuracy: 0.6749 - val_loss: 0.4317 - val_accuracy: 0.9198\n",
      "Epoch 32/1000\n",
      " 1/29 [>.............................] - ETA: 0s - loss: 0.7310 - accuracy: 0.6953\n",
      "Epoch 32: saving model to model/keypoint_classifier/keypoint_classifier.hdf5\n",
      "29/29 [==============================] - 0s 2ms/step - loss: 0.7185 - accuracy: 0.7011 - val_loss: 0.4174 - val_accuracy: 0.9256\n",
      "Epoch 33/1000\n",
      " 1/29 [>.............................] - ETA: 0s - loss: 0.7764 - accuracy: 0.6953\n",
      "Epoch 33: saving model to model/keypoint_classifier/keypoint_classifier.hdf5\n",
      "29/29 [==============================] - 0s 3ms/step - loss: 0.7174 - accuracy: 0.6964 - val_loss: 0.4128 - val_accuracy: 0.9332\n",
      "Epoch 34/1000\n",
      " 1/29 [>.............................] - ETA: 0s - loss: 0.7031 - accuracy: 0.7031\n",
      "Epoch 34: saving model to model/keypoint_classifier/keypoint_classifier.hdf5\n",
      "29/29 [==============================] - 0s 3ms/step - loss: 0.6934 - accuracy: 0.7081 - val_loss: 0.4013 - val_accuracy: 0.9357\n",
      "Epoch 35/1000\n",
      " 1/29 [>.............................] - ETA: 0s - loss: 0.6519 - accuracy: 0.7500\n",
      "Epoch 35: saving model to model/keypoint_classifier/keypoint_classifier.hdf5\n",
      "29/29 [==============================] - 0s 3ms/step - loss: 0.7106 - accuracy: 0.7003 - val_loss: 0.3915 - val_accuracy: 0.9390\n",
      "Epoch 36/1000\n",
      " 1/29 [>.............................] - ETA: 0s - loss: 0.6380 - accuracy: 0.6953\n",
      "Epoch 36: saving model to model/keypoint_classifier/keypoint_classifier.hdf5\n",
      "29/29 [==============================] - 0s 3ms/step - loss: 0.6810 - accuracy: 0.7084 - val_loss: 0.3886 - val_accuracy: 0.9315\n",
      "Epoch 37/1000\n",
      " 1/29 [>.............................] - ETA: 0s - loss: 0.6533 - accuracy: 0.7031\n",
      "Epoch 37: saving model to model/keypoint_classifier/keypoint_classifier.hdf5\n",
      "29/29 [==============================] - 0s 3ms/step - loss: 0.6821 - accuracy: 0.7223 - val_loss: 0.3804 - val_accuracy: 0.9307\n",
      "Epoch 38/1000\n",
      " 1/29 [>.............................] - ETA: 0s - loss: 0.6662 - accuracy: 0.7188\n",
      "Epoch 38: saving model to model/keypoint_classifier/keypoint_classifier.hdf5\n",
      "29/29 [==============================] - 0s 2ms/step - loss: 0.6733 - accuracy: 0.7203 - val_loss: 0.3680 - val_accuracy: 0.9340\n",
      "Epoch 39/1000\n",
      " 1/29 [>.............................] - ETA: 0s - loss: 0.7396 - accuracy: 0.6641\n",
      "Epoch 39: saving model to model/keypoint_classifier/keypoint_classifier.hdf5\n",
      "29/29 [==============================] - 0s 3ms/step - loss: 0.6776 - accuracy: 0.7106 - val_loss: 0.3691 - val_accuracy: 0.9382\n",
      "Epoch 40/1000\n",
      " 1/29 [>.............................] - ETA: 0s - loss: 0.6185 - accuracy: 0.7266\n",
      "Epoch 40: saving model to model/keypoint_classifier/keypoint_classifier.hdf5\n",
      "29/29 [==============================] - 0s 3ms/step - loss: 0.6593 - accuracy: 0.7265 - val_loss: 0.3684 - val_accuracy: 0.9365\n",
      "Epoch 41/1000\n",
      " 1/29 [>.............................] - ETA: 0s - loss: 0.7189 - accuracy: 0.7188\n",
      "Epoch 41: saving model to model/keypoint_classifier/keypoint_classifier.hdf5\n",
      "29/29 [==============================] - 0s 3ms/step - loss: 0.6748 - accuracy: 0.7203 - val_loss: 0.3672 - val_accuracy: 0.9432\n",
      "Epoch 42/1000\n",
      " 1/29 [>.............................] - ETA: 0s - loss: 0.6965 - accuracy: 0.7422\n",
      "Epoch 42: saving model to model/keypoint_classifier/keypoint_classifier.hdf5\n",
      "29/29 [==============================] - 0s 3ms/step - loss: 0.6504 - accuracy: 0.7295 - val_loss: 0.3509 - val_accuracy: 0.9432\n",
      "Epoch 43/1000\n",
      " 1/29 [>.............................] - ETA: 0s - loss: 0.6203 - accuracy: 0.7500\n",
      "Epoch 43: saving model to model/keypoint_classifier/keypoint_classifier.hdf5\n",
      "29/29 [==============================] - 0s 3ms/step - loss: 0.6529 - accuracy: 0.7298 - val_loss: 0.3496 - val_accuracy: 0.9432\n",
      "Epoch 44/1000\n",
      " 1/29 [>.............................] - ETA: 0s - loss: 0.6779 - accuracy: 0.7422\n",
      "Epoch 44: saving model to model/keypoint_classifier/keypoint_classifier.hdf5\n",
      "29/29 [==============================] - 0s 3ms/step - loss: 0.6425 - accuracy: 0.7262 - val_loss: 0.3458 - val_accuracy: 0.9407\n",
      "Epoch 45/1000\n",
      " 1/29 [>.............................] - ETA: 0s - loss: 0.6423 - accuracy: 0.7422\n",
      "Epoch 45: saving model to model/keypoint_classifier/keypoint_classifier.hdf5\n",
      "29/29 [==============================] - 0s 3ms/step - loss: 0.6443 - accuracy: 0.7376 - val_loss: 0.3390 - val_accuracy: 0.9449\n",
      "Epoch 46/1000\n",
      " 1/29 [>.............................] - ETA: 0s - loss: 0.7433 - accuracy: 0.7109\n",
      "Epoch 46: saving model to model/keypoint_classifier/keypoint_classifier.hdf5\n",
      "29/29 [==============================] - 0s 3ms/step - loss: 0.6603 - accuracy: 0.7281 - val_loss: 0.3416 - val_accuracy: 0.9440\n",
      "Epoch 47/1000\n",
      " 1/29 [>.............................] - ETA: 0s - loss: 0.6083 - accuracy: 0.7422\n",
      "Epoch 47: saving model to model/keypoint_classifier/keypoint_classifier.hdf5\n",
      "29/29 [==============================] - 0s 3ms/step - loss: 0.6474 - accuracy: 0.7304 - val_loss: 0.3336 - val_accuracy: 0.9524\n",
      "Epoch 48/1000\n",
      " 1/29 [>.............................] - ETA: 0s - loss: 0.5423 - accuracy: 0.7969\n",
      "Epoch 48: saving model to model/keypoint_classifier/keypoint_classifier.hdf5\n",
      "29/29 [==============================] - 0s 2ms/step - loss: 0.6288 - accuracy: 0.7398 - val_loss: 0.3304 - val_accuracy: 0.9482\n",
      "Epoch 49/1000\n",
      " 1/29 [>.............................] - ETA: 0s - loss: 0.6007 - accuracy: 0.7734\n",
      "Epoch 49: saving model to model/keypoint_classifier/keypoint_classifier.hdf5\n",
      "29/29 [==============================] - 0s 3ms/step - loss: 0.6313 - accuracy: 0.7407 - val_loss: 0.3254 - val_accuracy: 0.9541\n",
      "Epoch 50/1000\n",
      " 1/29 [>.............................] - ETA: 0s - loss: 0.6928 - accuracy: 0.7031\n",
      "Epoch 50: saving model to model/keypoint_classifier/keypoint_classifier.hdf5\n",
      "29/29 [==============================] - 0s 2ms/step - loss: 0.6338 - accuracy: 0.7370 - val_loss: 0.3298 - val_accuracy: 0.9524\n",
      "Epoch 51/1000\n",
      " 1/29 [>.............................] - ETA: 0s - loss: 0.7229 - accuracy: 0.6953\n",
      "Epoch 51: saving model to model/keypoint_classifier/keypoint_classifier.hdf5\n",
      "29/29 [==============================] - 0s 3ms/step - loss: 0.6312 - accuracy: 0.7390 - val_loss: 0.3208 - val_accuracy: 0.9549\n",
      "Epoch 52/1000\n",
      " 1/29 [>.............................] - ETA: 0s - loss: 0.5445 - accuracy: 0.7969\n",
      "Epoch 52: saving model to model/keypoint_classifier/keypoint_classifier.hdf5\n",
      "29/29 [==============================] - 0s 3ms/step - loss: 0.6366 - accuracy: 0.7384 - val_loss: 0.3151 - val_accuracy: 0.9549\n",
      "Epoch 53/1000\n",
      " 1/29 [>.............................] - ETA: 0s - loss: 0.5392 - accuracy: 0.7969\n",
      "Epoch 53: saving model to model/keypoint_classifier/keypoint_classifier.hdf5\n",
      "29/29 [==============================] - 0s 2ms/step - loss: 0.6196 - accuracy: 0.7496 - val_loss: 0.3196 - val_accuracy: 0.9532\n",
      "Epoch 54/1000\n",
      " 1/29 [>.............................] - ETA: 0s - loss: 0.7351 - accuracy: 0.7031\n",
      "Epoch 54: saving model to model/keypoint_classifier/keypoint_classifier.hdf5\n",
      "29/29 [==============================] - 0s 3ms/step - loss: 0.6069 - accuracy: 0.7532 - val_loss: 0.3106 - val_accuracy: 0.9582\n",
      "Epoch 55/1000\n"
     ]
    },
    {
     "name": "stdout",
     "output_type": "stream",
     "text": [
      " 1/29 [>.............................] - ETA: 0s - loss: 0.6726 - accuracy: 0.7578\n",
      "Epoch 55: saving model to model/keypoint_classifier/keypoint_classifier.hdf5\n",
      "29/29 [==============================] - 0s 3ms/step - loss: 0.6150 - accuracy: 0.7499 - val_loss: 0.3049 - val_accuracy: 0.9599\n",
      "Epoch 56/1000\n",
      " 1/29 [>.............................] - ETA: 0s - loss: 0.7067 - accuracy: 0.7266\n",
      "Epoch 56: saving model to model/keypoint_classifier/keypoint_classifier.hdf5\n",
      "29/29 [==============================] - 0s 3ms/step - loss: 0.6045 - accuracy: 0.7602 - val_loss: 0.2996 - val_accuracy: 0.9557\n",
      "Epoch 57/1000\n",
      " 1/29 [>.............................] - ETA: 0s - loss: 0.5786 - accuracy: 0.7969\n",
      "Epoch 57: saving model to model/keypoint_classifier/keypoint_classifier.hdf5\n",
      "29/29 [==============================] - 0s 3ms/step - loss: 0.6073 - accuracy: 0.7571 - val_loss: 0.2965 - val_accuracy: 0.9624\n",
      "Epoch 58/1000\n",
      " 1/29 [>.............................] - ETA: 0s - loss: 0.6517 - accuracy: 0.7734\n",
      "Epoch 58: saving model to model/keypoint_classifier/keypoint_classifier.hdf5\n",
      "29/29 [==============================] - 0s 3ms/step - loss: 0.5918 - accuracy: 0.7655 - val_loss: 0.2921 - val_accuracy: 0.9624\n",
      "Epoch 59/1000\n",
      " 1/29 [>.............................] - ETA: 0s - loss: 0.6100 - accuracy: 0.7734\n",
      "Epoch 59: saving model to model/keypoint_classifier/keypoint_classifier.hdf5\n",
      "29/29 [==============================] - 0s 3ms/step - loss: 0.6078 - accuracy: 0.7543 - val_loss: 0.2930 - val_accuracy: 0.9657\n",
      "Epoch 60/1000\n",
      " 1/29 [>.............................] - ETA: 0s - loss: 0.4752 - accuracy: 0.8438\n",
      "Epoch 60: saving model to model/keypoint_classifier/keypoint_classifier.hdf5\n",
      "29/29 [==============================] - 0s 3ms/step - loss: 0.5913 - accuracy: 0.7682 - val_loss: 0.2946 - val_accuracy: 0.9657\n",
      "Epoch 61/1000\n",
      " 1/29 [>.............................] - ETA: 0s - loss: 0.7056 - accuracy: 0.6719\n",
      "Epoch 61: saving model to model/keypoint_classifier/keypoint_classifier.hdf5\n",
      "29/29 [==============================] - 0s 3ms/step - loss: 0.5811 - accuracy: 0.7652 - val_loss: 0.2855 - val_accuracy: 0.9641\n",
      "Epoch 62/1000\n",
      " 1/29 [>.............................] - ETA: 0s - loss: 0.5323 - accuracy: 0.7891\n",
      "Epoch 62: saving model to model/keypoint_classifier/keypoint_classifier.hdf5\n",
      "29/29 [==============================] - 0s 3ms/step - loss: 0.6084 - accuracy: 0.7515 - val_loss: 0.2942 - val_accuracy: 0.9632\n",
      "Epoch 63/1000\n",
      " 1/29 [>.............................] - ETA: 0s - loss: 0.4939 - accuracy: 0.8281\n",
      "Epoch 63: saving model to model/keypoint_classifier/keypoint_classifier.hdf5\n",
      "29/29 [==============================] - 0s 3ms/step - loss: 0.5809 - accuracy: 0.7613 - val_loss: 0.2891 - val_accuracy: 0.9632\n",
      "Epoch 64/1000\n",
      " 1/29 [>.............................] - ETA: 0s - loss: 0.5271 - accuracy: 0.7656\n",
      "Epoch 64: saving model to model/keypoint_classifier/keypoint_classifier.hdf5\n",
      "29/29 [==============================] - 0s 2ms/step - loss: 0.5808 - accuracy: 0.7652 - val_loss: 0.2815 - val_accuracy: 0.9632\n",
      "Epoch 65/1000\n",
      " 1/29 [>.............................] - ETA: 0s - loss: 0.5242 - accuracy: 0.7422\n",
      "Epoch 65: saving model to model/keypoint_classifier/keypoint_classifier.hdf5\n",
      "29/29 [==============================] - 0s 3ms/step - loss: 0.5865 - accuracy: 0.7649 - val_loss: 0.2872 - val_accuracy: 0.9649\n",
      "Epoch 66/1000\n",
      " 1/29 [>.............................] - ETA: 0s - loss: 0.4494 - accuracy: 0.8359\n",
      "Epoch 66: saving model to model/keypoint_classifier/keypoint_classifier.hdf5\n",
      "29/29 [==============================] - 0s 3ms/step - loss: 0.5754 - accuracy: 0.7708 - val_loss: 0.2827 - val_accuracy: 0.9641\n",
      "Epoch 67/1000\n",
      " 1/29 [>.............................] - ETA: 0s - loss: 0.6559 - accuracy: 0.7344\n",
      "Epoch 67: saving model to model/keypoint_classifier/keypoint_classifier.hdf5\n",
      "29/29 [==============================] - 0s 3ms/step - loss: 0.5958 - accuracy: 0.7618 - val_loss: 0.2814 - val_accuracy: 0.9657\n",
      "Epoch 68/1000\n",
      " 1/29 [>.............................] - ETA: 0s - loss: 0.5031 - accuracy: 0.8125\n",
      "Epoch 68: saving model to model/keypoint_classifier/keypoint_classifier.hdf5\n",
      "29/29 [==============================] - 0s 3ms/step - loss: 0.5744 - accuracy: 0.7677 - val_loss: 0.2728 - val_accuracy: 0.9649\n",
      "Epoch 69/1000\n",
      " 1/29 [>.............................] - ETA: 0s - loss: 0.6285 - accuracy: 0.7656\n",
      "Epoch 69: saving model to model/keypoint_classifier/keypoint_classifier.hdf5\n",
      "29/29 [==============================] - 0s 3ms/step - loss: 0.5893 - accuracy: 0.7669 - val_loss: 0.2760 - val_accuracy: 0.9657\n",
      "Epoch 70/1000\n",
      " 1/29 [>.............................] - ETA: 0s - loss: 0.7603 - accuracy: 0.7109\n",
      "Epoch 70: saving model to model/keypoint_classifier/keypoint_classifier.hdf5\n",
      "29/29 [==============================] - 0s 3ms/step - loss: 0.5908 - accuracy: 0.7618 - val_loss: 0.2771 - val_accuracy: 0.9666\n",
      "Epoch 71/1000\n",
      " 1/29 [>.............................] - ETA: 0s - loss: 0.5658 - accuracy: 0.7891\n",
      "Epoch 71: saving model to model/keypoint_classifier/keypoint_classifier.hdf5\n",
      "29/29 [==============================] - 0s 3ms/step - loss: 0.5898 - accuracy: 0.7596 - val_loss: 0.2730 - val_accuracy: 0.9666\n",
      "Epoch 72/1000\n",
      " 1/29 [>.............................] - ETA: 0s - loss: 0.6129 - accuracy: 0.7422\n",
      "Epoch 72: saving model to model/keypoint_classifier/keypoint_classifier.hdf5\n",
      "29/29 [==============================] - 0s 3ms/step - loss: 0.5778 - accuracy: 0.7588 - val_loss: 0.2724 - val_accuracy: 0.9624\n",
      "Epoch 73/1000\n",
      " 1/29 [>.............................] - ETA: 0s - loss: 0.7512 - accuracy: 0.7266\n",
      "Epoch 73: saving model to model/keypoint_classifier/keypoint_classifier.hdf5\n",
      "29/29 [==============================] - 0s 3ms/step - loss: 0.5683 - accuracy: 0.7702 - val_loss: 0.2666 - val_accuracy: 0.9649\n",
      "Epoch 74/1000\n",
      " 1/29 [>.............................] - ETA: 0s - loss: 0.5747 - accuracy: 0.8281\n",
      "Epoch 74: saving model to model/keypoint_classifier/keypoint_classifier.hdf5\n",
      "29/29 [==============================] - 0s 3ms/step - loss: 0.5517 - accuracy: 0.7802 - val_loss: 0.2642 - val_accuracy: 0.9641\n",
      "Epoch 75/1000\n",
      " 1/29 [>.............................] - ETA: 0s - loss: 0.5767 - accuracy: 0.7812\n",
      "Epoch 75: saving model to model/keypoint_classifier/keypoint_classifier.hdf5\n",
      "29/29 [==============================] - 0s 3ms/step - loss: 0.5716 - accuracy: 0.7696 - val_loss: 0.2682 - val_accuracy: 0.9691\n",
      "Epoch 76/1000\n",
      " 1/29 [>.............................] - ETA: 0s - loss: 0.4827 - accuracy: 0.8047\n",
      "Epoch 76: saving model to model/keypoint_classifier/keypoint_classifier.hdf5\n",
      "29/29 [==============================] - 0s 2ms/step - loss: 0.5732 - accuracy: 0.7655 - val_loss: 0.2597 - val_accuracy: 0.9657\n",
      "Epoch 77/1000\n",
      " 1/29 [>.............................] - ETA: 0s - loss: 0.5156 - accuracy: 0.7578\n",
      "Epoch 77: saving model to model/keypoint_classifier/keypoint_classifier.hdf5\n",
      "29/29 [==============================] - 0s 2ms/step - loss: 0.5472 - accuracy: 0.7797 - val_loss: 0.2584 - val_accuracy: 0.9674\n",
      "Epoch 78/1000\n",
      " 1/29 [>.............................] - ETA: 0s - loss: 0.4862 - accuracy: 0.8047\n",
      "Epoch 78: saving model to model/keypoint_classifier/keypoint_classifier.hdf5\n",
      "29/29 [==============================] - 0s 3ms/step - loss: 0.5537 - accuracy: 0.7816 - val_loss: 0.2560 - val_accuracy: 0.9691\n",
      "Epoch 79/1000\n",
      " 1/29 [>.............................] - ETA: 0s - loss: 0.4908 - accuracy: 0.8359\n",
      "Epoch 79: saving model to model/keypoint_classifier/keypoint_classifier.hdf5\n",
      "29/29 [==============================] - 0s 2ms/step - loss: 0.5409 - accuracy: 0.7916 - val_loss: 0.2530 - val_accuracy: 0.9708\n",
      "Epoch 80/1000\n",
      " 1/29 [>.............................] - ETA: 0s - loss: 0.5222 - accuracy: 0.8047\n",
      "Epoch 80: saving model to model/keypoint_classifier/keypoint_classifier.hdf5\n",
      "29/29 [==============================] - 0s 3ms/step - loss: 0.5431 - accuracy: 0.7875 - val_loss: 0.2477 - val_accuracy: 0.9716\n",
      "Epoch 81/1000\n",
      " 1/29 [>.............................] - ETA: 0s - loss: 0.5826 - accuracy: 0.7734\n",
      "Epoch 81: saving model to model/keypoint_classifier/keypoint_classifier.hdf5\n",
      "29/29 [==============================] - 0s 3ms/step - loss: 0.5513 - accuracy: 0.7822 - val_loss: 0.2518 - val_accuracy: 0.9741\n",
      "Epoch 82/1000\n"
     ]
    },
    {
     "name": "stdout",
     "output_type": "stream",
     "text": [
      " 1/29 [>.............................] - ETA: 0s - loss: 0.5536 - accuracy: 0.7500\n",
      "Epoch 82: saving model to model/keypoint_classifier/keypoint_classifier.hdf5\n",
      "29/29 [==============================] - 0s 3ms/step - loss: 0.5595 - accuracy: 0.7724 - val_loss: 0.2564 - val_accuracy: 0.9691\n",
      "Epoch 83/1000\n",
      " 1/29 [>.............................] - ETA: 0s - loss: 0.5140 - accuracy: 0.8047\n",
      "Epoch 83: saving model to model/keypoint_classifier/keypoint_classifier.hdf5\n",
      "29/29 [==============================] - 0s 2ms/step - loss: 0.5524 - accuracy: 0.7755 - val_loss: 0.2471 - val_accuracy: 0.9716\n",
      "Epoch 84/1000\n",
      " 1/29 [>.............................] - ETA: 0s - loss: 0.5522 - accuracy: 0.7656\n",
      "Epoch 84: saving model to model/keypoint_classifier/keypoint_classifier.hdf5\n",
      "29/29 [==============================] - 0s 2ms/step - loss: 0.5519 - accuracy: 0.7755 - val_loss: 0.2405 - val_accuracy: 0.9716\n",
      "Epoch 85/1000\n",
      " 1/29 [>.............................] - ETA: 0s - loss: 0.5975 - accuracy: 0.7500\n",
      "Epoch 85: saving model to model/keypoint_classifier/keypoint_classifier.hdf5\n",
      "29/29 [==============================] - 0s 2ms/step - loss: 0.5409 - accuracy: 0.7861 - val_loss: 0.2458 - val_accuracy: 0.9699\n",
      "Epoch 86/1000\n",
      " 1/29 [>.............................] - ETA: 0s - loss: 0.6222 - accuracy: 0.8125\n",
      "Epoch 86: saving model to model/keypoint_classifier/keypoint_classifier.hdf5\n",
      "29/29 [==============================] - 0s 2ms/step - loss: 0.5511 - accuracy: 0.7763 - val_loss: 0.2461 - val_accuracy: 0.9724\n",
      "Epoch 87/1000\n",
      " 1/29 [>.............................] - ETA: 0s - loss: 0.4910 - accuracy: 0.8203\n",
      "Epoch 87: saving model to model/keypoint_classifier/keypoint_classifier.hdf5\n",
      "29/29 [==============================] - 0s 2ms/step - loss: 0.5329 - accuracy: 0.7894 - val_loss: 0.2436 - val_accuracy: 0.9716\n",
      "Epoch 88/1000\n",
      " 1/29 [>.............................] - ETA: 0s - loss: 0.5405 - accuracy: 0.7891\n",
      "Epoch 88: saving model to model/keypoint_classifier/keypoint_classifier.hdf5\n",
      "29/29 [==============================] - 0s 3ms/step - loss: 0.5536 - accuracy: 0.7716 - val_loss: 0.2466 - val_accuracy: 0.9708\n",
      "Epoch 89/1000\n",
      " 1/29 [>.............................] - ETA: 0s - loss: 0.6590 - accuracy: 0.7578\n",
      "Epoch 89: saving model to model/keypoint_classifier/keypoint_classifier.hdf5\n",
      "29/29 [==============================] - 0s 2ms/step - loss: 0.5391 - accuracy: 0.7850 - val_loss: 0.2494 - val_accuracy: 0.9716\n",
      "Epoch 90/1000\n",
      " 1/29 [>.............................] - ETA: 0s - loss: 0.5732 - accuracy: 0.8047\n",
      "Epoch 90: saving model to model/keypoint_classifier/keypoint_classifier.hdf5\n",
      "29/29 [==============================] - 0s 3ms/step - loss: 0.5503 - accuracy: 0.7772 - val_loss: 0.2463 - val_accuracy: 0.9716\n",
      "Epoch 91/1000\n",
      " 1/29 [>.............................] - ETA: 0s - loss: 0.4984 - accuracy: 0.7734\n",
      "Epoch 91: saving model to model/keypoint_classifier/keypoint_classifier.hdf5\n",
      "29/29 [==============================] - 0s 3ms/step - loss: 0.5312 - accuracy: 0.7889 - val_loss: 0.2414 - val_accuracy: 0.9699\n",
      "Epoch 92/1000\n",
      " 1/29 [>.............................] - ETA: 0s - loss: 0.5726 - accuracy: 0.7656\n",
      "Epoch 92: saving model to model/keypoint_classifier/keypoint_classifier.hdf5\n",
      "29/29 [==============================] - 0s 2ms/step - loss: 0.5367 - accuracy: 0.7903 - val_loss: 0.2323 - val_accuracy: 0.9708\n",
      "Epoch 93/1000\n",
      " 1/29 [>.............................] - ETA: 0s - loss: 0.5340 - accuracy: 0.7500\n",
      "Epoch 93: saving model to model/keypoint_classifier/keypoint_classifier.hdf5\n",
      "29/29 [==============================] - 0s 2ms/step - loss: 0.5386 - accuracy: 0.7799 - val_loss: 0.2357 - val_accuracy: 0.9733\n",
      "Epoch 94/1000\n",
      " 1/29 [>.............................] - ETA: 0s - loss: 0.5831 - accuracy: 0.7812\n",
      "Epoch 94: saving model to model/keypoint_classifier/keypoint_classifier.hdf5\n",
      "29/29 [==============================] - 0s 3ms/step - loss: 0.5394 - accuracy: 0.7822 - val_loss: 0.2443 - val_accuracy: 0.9724\n",
      "Epoch 95/1000\n",
      " 1/29 [>.............................] - ETA: 0s - loss: 0.5143 - accuracy: 0.7734\n",
      "Epoch 95: saving model to model/keypoint_classifier/keypoint_classifier.hdf5\n",
      "29/29 [==============================] - 0s 3ms/step - loss: 0.5248 - accuracy: 0.7930 - val_loss: 0.2351 - val_accuracy: 0.9733\n",
      "Epoch 96/1000\n",
      " 1/29 [>.............................] - ETA: 0s - loss: 0.3931 - accuracy: 0.8750\n",
      "Epoch 96: saving model to model/keypoint_classifier/keypoint_classifier.hdf5\n",
      "29/29 [==============================] - 0s 3ms/step - loss: 0.5300 - accuracy: 0.7833 - val_loss: 0.2358 - val_accuracy: 0.9758\n",
      "Epoch 97/1000\n",
      " 1/29 [>.............................] - ETA: 0s - loss: 0.6190 - accuracy: 0.7266\n",
      "Epoch 97: saving model to model/keypoint_classifier/keypoint_classifier.hdf5\n",
      "29/29 [==============================] - 0s 3ms/step - loss: 0.5216 - accuracy: 0.7908 - val_loss: 0.2303 - val_accuracy: 0.9708\n",
      "Epoch 98/1000\n",
      " 1/29 [>.............................] - ETA: 0s - loss: 0.5597 - accuracy: 0.8047\n",
      "Epoch 98: saving model to model/keypoint_classifier/keypoint_classifier.hdf5\n",
      "29/29 [==============================] - 0s 3ms/step - loss: 0.5356 - accuracy: 0.7864 - val_loss: 0.2278 - val_accuracy: 0.9716\n",
      "Epoch 99/1000\n",
      " 1/29 [>.............................] - ETA: 0s - loss: 0.5155 - accuracy: 0.8047\n",
      "Epoch 99: saving model to model/keypoint_classifier/keypoint_classifier.hdf5\n",
      "29/29 [==============================] - 0s 2ms/step - loss: 0.5149 - accuracy: 0.7992 - val_loss: 0.2295 - val_accuracy: 0.9724\n",
      "Epoch 100/1000\n",
      " 1/29 [>.............................] - ETA: 0s - loss: 0.4590 - accuracy: 0.8203\n",
      "Epoch 100: saving model to model/keypoint_classifier/keypoint_classifier.hdf5\n",
      "29/29 [==============================] - 0s 2ms/step - loss: 0.5416 - accuracy: 0.7858 - val_loss: 0.2360 - val_accuracy: 0.9708\n",
      "Epoch 101/1000\n",
      " 1/29 [>.............................] - ETA: 0s - loss: 0.6944 - accuracy: 0.6953\n",
      "Epoch 101: saving model to model/keypoint_classifier/keypoint_classifier.hdf5\n",
      "29/29 [==============================] - 0s 3ms/step - loss: 0.5269 - accuracy: 0.7939 - val_loss: 0.2308 - val_accuracy: 0.9733\n",
      "Epoch 102/1000\n",
      " 1/29 [>.............................] - ETA: 0s - loss: 0.6037 - accuracy: 0.7500\n",
      "Epoch 102: saving model to model/keypoint_classifier/keypoint_classifier.hdf5\n",
      "29/29 [==============================] - 0s 3ms/step - loss: 0.5257 - accuracy: 0.7855 - val_loss: 0.2178 - val_accuracy: 0.9733\n",
      "Epoch 103/1000\n",
      " 1/29 [>.............................] - ETA: 0s - loss: 0.4804 - accuracy: 0.8125\n",
      "Epoch 103: saving model to model/keypoint_classifier/keypoint_classifier.hdf5\n",
      "29/29 [==============================] - 0s 3ms/step - loss: 0.5516 - accuracy: 0.7760 - val_loss: 0.2262 - val_accuracy: 0.9733\n",
      "Epoch 104/1000\n",
      " 1/29 [>.............................] - ETA: 0s - loss: 0.4733 - accuracy: 0.7891\n",
      "Epoch 104: saving model to model/keypoint_classifier/keypoint_classifier.hdf5\n",
      "29/29 [==============================] - 0s 3ms/step - loss: 0.5174 - accuracy: 0.7942 - val_loss: 0.2254 - val_accuracy: 0.9716\n",
      "Epoch 105/1000\n",
      " 1/29 [>.............................] - ETA: 0s - loss: 0.6504 - accuracy: 0.7188\n",
      "Epoch 105: saving model to model/keypoint_classifier/keypoint_classifier.hdf5\n",
      "29/29 [==============================] - 0s 2ms/step - loss: 0.5216 - accuracy: 0.7922 - val_loss: 0.2219 - val_accuracy: 0.9741\n",
      "Epoch 106/1000\n",
      " 1/29 [>.............................] - ETA: 0s - loss: 0.6247 - accuracy: 0.7344\n",
      "Epoch 106: saving model to model/keypoint_classifier/keypoint_classifier.hdf5\n",
      "29/29 [==============================] - 0s 3ms/step - loss: 0.4909 - accuracy: 0.7989 - val_loss: 0.2187 - val_accuracy: 0.9716\n",
      "Epoch 107/1000\n",
      " 1/29 [>.............................] - ETA: 0s - loss: 0.4362 - accuracy: 0.7969\n",
      "Epoch 107: saving model to model/keypoint_classifier/keypoint_classifier.hdf5\n",
      "29/29 [==============================] - 0s 3ms/step - loss: 0.5324 - accuracy: 0.7830 - val_loss: 0.2212 - val_accuracy: 0.9741\n",
      "Epoch 108/1000\n",
      " 1/29 [>.............................] - ETA: 0s - loss: 0.4998 - accuracy: 0.8125\n",
      "Epoch 108: saving model to model/keypoint_classifier/keypoint_classifier.hdf5\n",
      "29/29 [==============================] - 0s 3ms/step - loss: 0.4923 - accuracy: 0.8081 - val_loss: 0.2148 - val_accuracy: 0.9733\n",
      "Epoch 109/1000\n"
     ]
    },
    {
     "name": "stdout",
     "output_type": "stream",
     "text": [
      " 1/29 [>.............................] - ETA: 0s - loss: 0.6277 - accuracy: 0.7656\n",
      "Epoch 109: saving model to model/keypoint_classifier/keypoint_classifier.hdf5\n",
      "29/29 [==============================] - 0s 3ms/step - loss: 0.5323 - accuracy: 0.7944 - val_loss: 0.2169 - val_accuracy: 0.9741\n",
      "Epoch 110/1000\n",
      " 1/29 [>.............................] - ETA: 0s - loss: 0.5998 - accuracy: 0.7656\n",
      "Epoch 110: saving model to model/keypoint_classifier/keypoint_classifier.hdf5\n",
      "29/29 [==============================] - 0s 3ms/step - loss: 0.5123 - accuracy: 0.7986 - val_loss: 0.2202 - val_accuracy: 0.9741\n",
      "Epoch 111/1000\n",
      " 1/29 [>.............................] - ETA: 0s - loss: 0.5227 - accuracy: 0.7812\n",
      "Epoch 111: saving model to model/keypoint_classifier/keypoint_classifier.hdf5\n",
      "29/29 [==============================] - 0s 3ms/step - loss: 0.5132 - accuracy: 0.7997 - val_loss: 0.2120 - val_accuracy: 0.9741\n",
      "Epoch 112/1000\n",
      " 1/29 [>.............................] - ETA: 0s - loss: 0.5575 - accuracy: 0.7891\n",
      "Epoch 112: saving model to model/keypoint_classifier/keypoint_classifier.hdf5\n",
      "29/29 [==============================] - 0s 3ms/step - loss: 0.5160 - accuracy: 0.8025 - val_loss: 0.2195 - val_accuracy: 0.9683\n",
      "Epoch 113/1000\n",
      " 1/29 [>.............................] - ETA: 0s - loss: 0.5141 - accuracy: 0.7891\n",
      "Epoch 113: saving model to model/keypoint_classifier/keypoint_classifier.hdf5\n",
      "29/29 [==============================] - 0s 3ms/step - loss: 0.5155 - accuracy: 0.7961 - val_loss: 0.2170 - val_accuracy: 0.9733\n",
      "Epoch 114/1000\n",
      " 1/29 [>.............................] - ETA: 0s - loss: 0.4673 - accuracy: 0.8125\n",
      "Epoch 114: saving model to model/keypoint_classifier/keypoint_classifier.hdf5\n",
      "29/29 [==============================] - 0s 3ms/step - loss: 0.5033 - accuracy: 0.8047 - val_loss: 0.2162 - val_accuracy: 0.9708\n",
      "Epoch 115/1000\n",
      " 1/29 [>.............................] - ETA: 0s - loss: 0.5414 - accuracy: 0.8125\n",
      "Epoch 115: saving model to model/keypoint_classifier/keypoint_classifier.hdf5\n",
      "29/29 [==============================] - 0s 3ms/step - loss: 0.5036 - accuracy: 0.8072 - val_loss: 0.2190 - val_accuracy: 0.9699\n",
      "Epoch 116/1000\n",
      " 1/29 [>.............................] - ETA: 0s - loss: 0.4439 - accuracy: 0.8359\n",
      "Epoch 116: saving model to model/keypoint_classifier/keypoint_classifier.hdf5\n",
      "29/29 [==============================] - 0s 3ms/step - loss: 0.5063 - accuracy: 0.8045 - val_loss: 0.2148 - val_accuracy: 0.9708\n",
      "Epoch 117/1000\n",
      " 1/29 [>.............................] - ETA: 0s - loss: 0.5773 - accuracy: 0.7578\n",
      "Epoch 117: saving model to model/keypoint_classifier/keypoint_classifier.hdf5\n",
      "29/29 [==============================] - 0s 3ms/step - loss: 0.4919 - accuracy: 0.8053 - val_loss: 0.2125 - val_accuracy: 0.9716\n",
      "Epoch 118/1000\n",
      " 1/29 [>.............................] - ETA: 0s - loss: 0.4982 - accuracy: 0.8438\n",
      "Epoch 118: saving model to model/keypoint_classifier/keypoint_classifier.hdf5\n",
      "29/29 [==============================] - 0s 3ms/step - loss: 0.5204 - accuracy: 0.7955 - val_loss: 0.2150 - val_accuracy: 0.9741\n",
      "Epoch 119/1000\n",
      " 1/29 [>.............................] - ETA: 0s - loss: 0.4093 - accuracy: 0.8203\n",
      "Epoch 119: saving model to model/keypoint_classifier/keypoint_classifier.hdf5\n",
      "29/29 [==============================] - 0s 2ms/step - loss: 0.5199 - accuracy: 0.7916 - val_loss: 0.2206 - val_accuracy: 0.9749\n",
      "Epoch 120/1000\n",
      " 1/29 [>.............................] - ETA: 0s - loss: 0.4313 - accuracy: 0.8359\n",
      "Epoch 120: saving model to model/keypoint_classifier/keypoint_classifier.hdf5\n",
      "29/29 [==============================] - 0s 2ms/step - loss: 0.5036 - accuracy: 0.8045 - val_loss: 0.2163 - val_accuracy: 0.9749\n",
      "Epoch 121/1000\n",
      " 1/29 [>.............................] - ETA: 0s - loss: 0.4639 - accuracy: 0.8047\n",
      "Epoch 121: saving model to model/keypoint_classifier/keypoint_classifier.hdf5\n",
      "29/29 [==============================] - 0s 2ms/step - loss: 0.5207 - accuracy: 0.7964 - val_loss: 0.2183 - val_accuracy: 0.9766\n",
      "Epoch 122/1000\n",
      " 1/29 [>.............................] - ETA: 0s - loss: 0.4477 - accuracy: 0.8672\n",
      "Epoch 122: saving model to model/keypoint_classifier/keypoint_classifier.hdf5\n",
      "29/29 [==============================] - 0s 3ms/step - loss: 0.5018 - accuracy: 0.8058 - val_loss: 0.2146 - val_accuracy: 0.9733\n",
      "Epoch 123/1000\n",
      " 1/29 [>.............................] - ETA: 0s - loss: 0.4489 - accuracy: 0.7969\n",
      "Epoch 123: saving model to model/keypoint_classifier/keypoint_classifier.hdf5\n",
      "29/29 [==============================] - 0s 3ms/step - loss: 0.5248 - accuracy: 0.7908 - val_loss: 0.2104 - val_accuracy: 0.9724\n",
      "Epoch 124/1000\n",
      " 1/29 [>.............................] - ETA: 0s - loss: 0.4463 - accuracy: 0.7891\n",
      "Epoch 124: saving model to model/keypoint_classifier/keypoint_classifier.hdf5\n",
      "29/29 [==============================] - 0s 3ms/step - loss: 0.5184 - accuracy: 0.7969 - val_loss: 0.2219 - val_accuracy: 0.9741\n",
      "Epoch 125/1000\n",
      " 1/29 [>.............................] - ETA: 0s - loss: 0.4584 - accuracy: 0.8125\n",
      "Epoch 125: saving model to model/keypoint_classifier/keypoint_classifier.hdf5\n",
      "29/29 [==============================] - 0s 3ms/step - loss: 0.5156 - accuracy: 0.7925 - val_loss: 0.2211 - val_accuracy: 0.9699\n",
      "Epoch 126/1000\n",
      " 1/29 [>.............................] - ETA: 0s - loss: 0.5820 - accuracy: 0.8047\n",
      "Epoch 126: saving model to model/keypoint_classifier/keypoint_classifier.hdf5\n",
      "29/29 [==============================] - 0s 3ms/step - loss: 0.5069 - accuracy: 0.8056 - val_loss: 0.2224 - val_accuracy: 0.9724\n",
      "Epoch 127/1000\n",
      " 1/29 [>.............................] - ETA: 0s - loss: 0.3876 - accuracy: 0.8438\n",
      "Epoch 127: saving model to model/keypoint_classifier/keypoint_classifier.hdf5\n",
      "29/29 [==============================] - 0s 2ms/step - loss: 0.4945 - accuracy: 0.8086 - val_loss: 0.2090 - val_accuracy: 0.9774\n",
      "Epoch 128/1000\n",
      " 1/29 [>.............................] - ETA: 0s - loss: 0.5657 - accuracy: 0.7812\n",
      "Epoch 128: saving model to model/keypoint_classifier/keypoint_classifier.hdf5\n",
      "29/29 [==============================] - 0s 3ms/step - loss: 0.4838 - accuracy: 0.8142 - val_loss: 0.2027 - val_accuracy: 0.9758\n",
      "Epoch 129/1000\n",
      " 1/29 [>.............................] - ETA: 0s - loss: 0.5815 - accuracy: 0.7578\n",
      "Epoch 129: saving model to model/keypoint_classifier/keypoint_classifier.hdf5\n",
      "29/29 [==============================] - 0s 2ms/step - loss: 0.5072 - accuracy: 0.8050 - val_loss: 0.2066 - val_accuracy: 0.9758\n",
      "Epoch 130/1000\n",
      " 1/29 [>.............................] - ETA: 0s - loss: 0.5289 - accuracy: 0.7734\n",
      "Epoch 130: saving model to model/keypoint_classifier/keypoint_classifier.hdf5\n",
      "29/29 [==============================] - 0s 3ms/step - loss: 0.4809 - accuracy: 0.8086 - val_loss: 0.2039 - val_accuracy: 0.9783\n",
      "Epoch 131/1000\n",
      " 1/29 [>.............................] - ETA: 0s - loss: 0.4389 - accuracy: 0.8047\n",
      "Epoch 131: saving model to model/keypoint_classifier/keypoint_classifier.hdf5\n",
      "29/29 [==============================] - 0s 3ms/step - loss: 0.4887 - accuracy: 0.8131 - val_loss: 0.2012 - val_accuracy: 0.9766\n",
      "Epoch 132/1000\n",
      " 1/29 [>.............................] - ETA: 0s - loss: 0.4623 - accuracy: 0.7891\n",
      "Epoch 132: saving model to model/keypoint_classifier/keypoint_classifier.hdf5\n",
      "29/29 [==============================] - 0s 3ms/step - loss: 0.4951 - accuracy: 0.8089 - val_loss: 0.1990 - val_accuracy: 0.9766\n",
      "Epoch 133/1000\n",
      " 1/29 [>.............................] - ETA: 0s - loss: 0.5004 - accuracy: 0.8281\n",
      "Epoch 133: saving model to model/keypoint_classifier/keypoint_classifier.hdf5\n",
      "29/29 [==============================] - 0s 3ms/step - loss: 0.4901 - accuracy: 0.8114 - val_loss: 0.2046 - val_accuracy: 0.9741\n",
      "Epoch 134/1000\n",
      " 1/29 [>.............................] - ETA: 0s - loss: 0.3908 - accuracy: 0.8594\n",
      "Epoch 134: saving model to model/keypoint_classifier/keypoint_classifier.hdf5\n",
      "29/29 [==============================] - 0s 2ms/step - loss: 0.4814 - accuracy: 0.8117 - val_loss: 0.1979 - val_accuracy: 0.9716\n",
      "Epoch 135/1000\n",
      " 1/29 [>.............................] - ETA: 0s - loss: 0.5215 - accuracy: 0.7734\n",
      "Epoch 135: saving model to model/keypoint_classifier/keypoint_classifier.hdf5\n",
      "29/29 [==============================] - 0s 3ms/step - loss: 0.5034 - accuracy: 0.8022 - val_loss: 0.2021 - val_accuracy: 0.9749\n"
     ]
    },
    {
     "name": "stdout",
     "output_type": "stream",
     "text": [
      "Epoch 136/1000\n",
      " 1/29 [>.............................] - ETA: 0s - loss: 0.3425 - accuracy: 0.8594\n",
      "Epoch 136: saving model to model/keypoint_classifier/keypoint_classifier.hdf5\n",
      "29/29 [==============================] - 0s 3ms/step - loss: 0.4821 - accuracy: 0.8033 - val_loss: 0.2006 - val_accuracy: 0.9674\n",
      "Epoch 137/1000\n",
      " 1/29 [>.............................] - ETA: 0s - loss: 0.5175 - accuracy: 0.7812\n",
      "Epoch 137: saving model to model/keypoint_classifier/keypoint_classifier.hdf5\n",
      "29/29 [==============================] - 0s 3ms/step - loss: 0.5124 - accuracy: 0.8011 - val_loss: 0.2052 - val_accuracy: 0.9741\n",
      "Epoch 138/1000\n",
      " 1/29 [>.............................] - ETA: 0s - loss: 0.4713 - accuracy: 0.8281\n",
      "Epoch 138: saving model to model/keypoint_classifier/keypoint_classifier.hdf5\n",
      "29/29 [==============================] - 0s 3ms/step - loss: 0.4821 - accuracy: 0.8134 - val_loss: 0.2001 - val_accuracy: 0.9766\n",
      "Epoch 139/1000\n",
      " 1/29 [>.............................] - ETA: 0s - loss: 0.5706 - accuracy: 0.7656\n",
      "Epoch 139: saving model to model/keypoint_classifier/keypoint_classifier.hdf5\n",
      "29/29 [==============================] - 0s 3ms/step - loss: 0.4903 - accuracy: 0.8195 - val_loss: 0.2000 - val_accuracy: 0.9749\n",
      "Epoch 140/1000\n",
      " 1/29 [>.............................] - ETA: 0s - loss: 0.3584 - accuracy: 0.8750\n",
      "Epoch 140: saving model to model/keypoint_classifier/keypoint_classifier.hdf5\n",
      "29/29 [==============================] - 0s 3ms/step - loss: 0.4851 - accuracy: 0.8120 - val_loss: 0.1987 - val_accuracy: 0.9749\n",
      "Epoch 141/1000\n",
      " 1/29 [>.............................] - ETA: 0s - loss: 0.5009 - accuracy: 0.8047\n",
      "Epoch 141: saving model to model/keypoint_classifier/keypoint_classifier.hdf5\n",
      "29/29 [==============================] - 0s 3ms/step - loss: 0.4788 - accuracy: 0.8100 - val_loss: 0.1989 - val_accuracy: 0.9766\n",
      "Epoch 142/1000\n",
      " 1/29 [>.............................] - ETA: 0s - loss: 0.6055 - accuracy: 0.7422\n",
      "Epoch 142: saving model to model/keypoint_classifier/keypoint_classifier.hdf5\n",
      "29/29 [==============================] - 0s 3ms/step - loss: 0.4832 - accuracy: 0.8045 - val_loss: 0.1938 - val_accuracy: 0.9774\n",
      "Epoch 143/1000\n",
      " 1/29 [>.............................] - ETA: 0s - loss: 0.5610 - accuracy: 0.7812\n",
      "Epoch 143: saving model to model/keypoint_classifier/keypoint_classifier.hdf5\n",
      "29/29 [==============================] - 0s 3ms/step - loss: 0.5036 - accuracy: 0.8014 - val_loss: 0.2008 - val_accuracy: 0.9741\n",
      "Epoch 144/1000\n",
      " 1/29 [>.............................] - ETA: 0s - loss: 0.4096 - accuracy: 0.8516\n",
      "Epoch 144: saving model to model/keypoint_classifier/keypoint_classifier.hdf5\n",
      "29/29 [==============================] - 0s 3ms/step - loss: 0.5107 - accuracy: 0.8053 - val_loss: 0.2076 - val_accuracy: 0.9766\n",
      "Epoch 145/1000\n",
      " 1/29 [>.............................] - ETA: 0s - loss: 0.4374 - accuracy: 0.8047\n",
      "Epoch 145: saving model to model/keypoint_classifier/keypoint_classifier.hdf5\n",
      "29/29 [==============================] - 0s 3ms/step - loss: 0.4863 - accuracy: 0.8072 - val_loss: 0.2108 - val_accuracy: 0.9741\n",
      "Epoch 146/1000\n",
      " 1/29 [>.............................] - ETA: 0s - loss: 0.5348 - accuracy: 0.8281\n",
      "Epoch 146: saving model to model/keypoint_classifier/keypoint_classifier.hdf5\n",
      "29/29 [==============================] - 0s 3ms/step - loss: 0.4832 - accuracy: 0.8184 - val_loss: 0.1919 - val_accuracy: 0.9758\n",
      "Epoch 147/1000\n",
      " 1/29 [>.............................] - ETA: 0s - loss: 0.4348 - accuracy: 0.8594\n",
      "Epoch 147: saving model to model/keypoint_classifier/keypoint_classifier.hdf5\n",
      "29/29 [==============================] - 0s 3ms/step - loss: 0.4798 - accuracy: 0.8058 - val_loss: 0.1945 - val_accuracy: 0.9758\n",
      "Epoch 148/1000\n",
      " 1/29 [>.............................] - ETA: 0s - loss: 0.5299 - accuracy: 0.7344\n",
      "Epoch 148: saving model to model/keypoint_classifier/keypoint_classifier.hdf5\n",
      "29/29 [==============================] - 0s 3ms/step - loss: 0.4977 - accuracy: 0.8058 - val_loss: 0.2122 - val_accuracy: 0.9741\n",
      "Epoch 149/1000\n",
      " 1/29 [>.............................] - ETA: 0s - loss: 0.5506 - accuracy: 0.7891\n",
      "Epoch 149: saving model to model/keypoint_classifier/keypoint_classifier.hdf5\n",
      "29/29 [==============================] - 0s 3ms/step - loss: 0.4862 - accuracy: 0.8114 - val_loss: 0.2013 - val_accuracy: 0.9749\n",
      "Epoch 150/1000\n",
      " 1/29 [>.............................] - ETA: 0s - loss: 0.3540 - accuracy: 0.8906\n",
      "Epoch 150: saving model to model/keypoint_classifier/keypoint_classifier.hdf5\n",
      "29/29 [==============================] - 0s 3ms/step - loss: 0.4883 - accuracy: 0.8106 - val_loss: 0.1961 - val_accuracy: 0.9766\n",
      "Epoch 151/1000\n",
      " 1/29 [>.............................] - ETA: 0s - loss: 0.5956 - accuracy: 0.7656\n",
      "Epoch 151: saving model to model/keypoint_classifier/keypoint_classifier.hdf5\n",
      "29/29 [==============================] - 0s 3ms/step - loss: 0.5010 - accuracy: 0.8081 - val_loss: 0.2053 - val_accuracy: 0.9749\n",
      "Epoch 152/1000\n",
      " 1/29 [>.............................] - ETA: 0s - loss: 0.5476 - accuracy: 0.7812\n",
      "Epoch 152: saving model to model/keypoint_classifier/keypoint_classifier.hdf5\n",
      "29/29 [==============================] - 0s 3ms/step - loss: 0.5151 - accuracy: 0.7992 - val_loss: 0.2015 - val_accuracy: 0.9733\n",
      "Epoch 153/1000\n",
      " 1/29 [>.............................] - ETA: 0s - loss: 0.5176 - accuracy: 0.7734\n",
      "Epoch 153: saving model to model/keypoint_classifier/keypoint_classifier.hdf5\n",
      "29/29 [==============================] - 0s 2ms/step - loss: 0.4896 - accuracy: 0.8167 - val_loss: 0.1971 - val_accuracy: 0.9774\n",
      "Epoch 154/1000\n",
      " 1/29 [>.............................] - ETA: 0s - loss: 0.4882 - accuracy: 0.7969\n",
      "Epoch 154: saving model to model/keypoint_classifier/keypoint_classifier.hdf5\n",
      "29/29 [==============================] - 0s 2ms/step - loss: 0.4852 - accuracy: 0.8178 - val_loss: 0.1987 - val_accuracy: 0.9741\n",
      "Epoch 155/1000\n",
      " 1/29 [>.............................] - ETA: 0s - loss: 0.4774 - accuracy: 0.8281\n",
      "Epoch 155: saving model to model/keypoint_classifier/keypoint_classifier.hdf5\n",
      "29/29 [==============================] - 0s 3ms/step - loss: 0.5017 - accuracy: 0.8008 - val_loss: 0.2019 - val_accuracy: 0.9766\n",
      "Epoch 156/1000\n",
      " 1/29 [>.............................] - ETA: 0s - loss: 0.5161 - accuracy: 0.8125\n",
      "Epoch 156: saving model to model/keypoint_classifier/keypoint_classifier.hdf5\n",
      "29/29 [==============================] - 0s 3ms/step - loss: 0.4746 - accuracy: 0.8228 - val_loss: 0.2066 - val_accuracy: 0.9708\n",
      "Epoch 157/1000\n",
      " 1/29 [>.............................] - ETA: 0s - loss: 0.4869 - accuracy: 0.8203\n",
      "Epoch 157: saving model to model/keypoint_classifier/keypoint_classifier.hdf5\n",
      "29/29 [==============================] - 0s 3ms/step - loss: 0.4937 - accuracy: 0.8031 - val_loss: 0.2003 - val_accuracy: 0.9766\n",
      "Epoch 158/1000\n",
      " 1/29 [>.............................] - ETA: 0s - loss: 0.4181 - accuracy: 0.8438\n",
      "Epoch 158: saving model to model/keypoint_classifier/keypoint_classifier.hdf5\n",
      "29/29 [==============================] - 0s 3ms/step - loss: 0.4867 - accuracy: 0.8189 - val_loss: 0.2001 - val_accuracy: 0.9766\n",
      "Epoch 159/1000\n",
      " 1/29 [>.............................] - ETA: 0s - loss: 0.6054 - accuracy: 0.8281\n",
      "Epoch 159: saving model to model/keypoint_classifier/keypoint_classifier.hdf5\n",
      "29/29 [==============================] - 0s 3ms/step - loss: 0.4809 - accuracy: 0.8223 - val_loss: 0.1979 - val_accuracy: 0.9741\n",
      "Epoch 160/1000\n",
      " 1/29 [>.............................] - ETA: 0s - loss: 0.4532 - accuracy: 0.8203\n",
      "Epoch 160: saving model to model/keypoint_classifier/keypoint_classifier.hdf5\n",
      "29/29 [==============================] - 0s 3ms/step - loss: 0.4864 - accuracy: 0.8120 - val_loss: 0.1984 - val_accuracy: 0.9716\n",
      "Epoch 161/1000\n",
      " 1/29 [>.............................] - ETA: 0s - loss: 0.4986 - accuracy: 0.7891\n",
      "Epoch 161: saving model to model/keypoint_classifier/keypoint_classifier.hdf5\n",
      "29/29 [==============================] - 0s 3ms/step - loss: 0.4616 - accuracy: 0.8214 - val_loss: 0.1915 - val_accuracy: 0.9741\n",
      "Epoch 162/1000\n",
      " 1/29 [>.............................] - ETA: 0s - loss: 0.4773 - accuracy: 0.8438\n",
      "Epoch 162: saving model to model/keypoint_classifier/keypoint_classifier.hdf5\n",
      "29/29 [==============================] - 0s 3ms/step - loss: 0.4953 - accuracy: 0.8053 - val_loss: 0.1992 - val_accuracy: 0.9724\n"
     ]
    },
    {
     "name": "stdout",
     "output_type": "stream",
     "text": [
      "Epoch 163/1000\n",
      " 1/29 [>.............................] - ETA: 0s - loss: 0.5214 - accuracy: 0.8828\n",
      "Epoch 163: saving model to model/keypoint_classifier/keypoint_classifier.hdf5\n",
      "29/29 [==============================] - 0s 3ms/step - loss: 0.4798 - accuracy: 0.8159 - val_loss: 0.2007 - val_accuracy: 0.9691\n",
      "Epoch 164/1000\n",
      " 1/29 [>.............................] - ETA: 0s - loss: 0.4549 - accuracy: 0.8125\n",
      "Epoch 164: saving model to model/keypoint_classifier/keypoint_classifier.hdf5\n",
      "29/29 [==============================] - 0s 2ms/step - loss: 0.4778 - accuracy: 0.8164 - val_loss: 0.1947 - val_accuracy: 0.9741\n",
      "Epoch 165/1000\n",
      " 1/29 [>.............................] - ETA: 0s - loss: 0.3741 - accuracy: 0.8672\n",
      "Epoch 165: saving model to model/keypoint_classifier/keypoint_classifier.hdf5\n",
      "29/29 [==============================] - 0s 3ms/step - loss: 0.4785 - accuracy: 0.8139 - val_loss: 0.1984 - val_accuracy: 0.9766\n",
      "Epoch 166/1000\n",
      " 1/29 [>.............................] - ETA: 0s - loss: 0.4044 - accuracy: 0.8516\n",
      "Epoch 166: saving model to model/keypoint_classifier/keypoint_classifier.hdf5\n",
      "29/29 [==============================] - 0s 3ms/step - loss: 0.4847 - accuracy: 0.8114 - val_loss: 0.1980 - val_accuracy: 0.9766\n",
      "Epoch 167/1000\n",
      " 1/29 [>.............................] - ETA: 0s - loss: 0.4244 - accuracy: 0.8672\n",
      "Epoch 167: saving model to model/keypoint_classifier/keypoint_classifier.hdf5\n",
      "29/29 [==============================] - 0s 3ms/step - loss: 0.4555 - accuracy: 0.8189 - val_loss: 0.1941 - val_accuracy: 0.9774\n",
      "Epoch 168/1000\n",
      " 1/29 [>.............................] - ETA: 0s - loss: 0.4198 - accuracy: 0.8828\n",
      "Epoch 168: saving model to model/keypoint_classifier/keypoint_classifier.hdf5\n",
      "29/29 [==============================] - 0s 3ms/step - loss: 0.4880 - accuracy: 0.8131 - val_loss: 0.1857 - val_accuracy: 0.9783\n",
      "Epoch 169/1000\n",
      " 1/29 [>.............................] - ETA: 0s - loss: 0.4850 - accuracy: 0.7734\n",
      "Epoch 169: saving model to model/keypoint_classifier/keypoint_classifier.hdf5\n",
      "29/29 [==============================] - 0s 2ms/step - loss: 0.4683 - accuracy: 0.8181 - val_loss: 0.1887 - val_accuracy: 0.9758\n",
      "Epoch 170/1000\n",
      " 1/29 [>.............................] - ETA: 0s - loss: 0.3858 - accuracy: 0.8438\n",
      "Epoch 170: saving model to model/keypoint_classifier/keypoint_classifier.hdf5\n",
      "29/29 [==============================] - 0s 3ms/step - loss: 0.4599 - accuracy: 0.8267 - val_loss: 0.1883 - val_accuracy: 0.9774\n",
      "Epoch 171/1000\n",
      " 1/29 [>.............................] - ETA: 0s - loss: 0.4598 - accuracy: 0.8047\n",
      "Epoch 171: saving model to model/keypoint_classifier/keypoint_classifier.hdf5\n",
      "29/29 [==============================] - 0s 3ms/step - loss: 0.4719 - accuracy: 0.8156 - val_loss: 0.1831 - val_accuracy: 0.9774\n",
      "Epoch 172/1000\n",
      " 1/29 [>.............................] - ETA: 0s - loss: 0.4897 - accuracy: 0.8203\n",
      "Epoch 172: saving model to model/keypoint_classifier/keypoint_classifier.hdf5\n",
      "29/29 [==============================] - 0s 3ms/step - loss: 0.4587 - accuracy: 0.8187 - val_loss: 0.1786 - val_accuracy: 0.9774\n",
      "Epoch 173/1000\n",
      " 1/29 [>.............................] - ETA: 0s - loss: 0.5695 - accuracy: 0.7656\n",
      "Epoch 173: saving model to model/keypoint_classifier/keypoint_classifier.hdf5\n",
      "29/29 [==============================] - 0s 3ms/step - loss: 0.4529 - accuracy: 0.8164 - val_loss: 0.1732 - val_accuracy: 0.9783\n",
      "Epoch 174/1000\n",
      " 1/29 [>.............................] - ETA: 0s - loss: 0.3812 - accuracy: 0.8906\n",
      "Epoch 174: saving model to model/keypoint_classifier/keypoint_classifier.hdf5\n",
      "29/29 [==============================] - 0s 3ms/step - loss: 0.4754 - accuracy: 0.8058 - val_loss: 0.1796 - val_accuracy: 0.9774\n",
      "Epoch 175/1000\n",
      " 1/29 [>.............................] - ETA: 0s - loss: 0.4463 - accuracy: 0.8516\n",
      "Epoch 175: saving model to model/keypoint_classifier/keypoint_classifier.hdf5\n",
      "29/29 [==============================] - 0s 3ms/step - loss: 0.4785 - accuracy: 0.8181 - val_loss: 0.1819 - val_accuracy: 0.9766\n",
      "Epoch 176/1000\n",
      " 1/29 [>.............................] - ETA: 0s - loss: 0.5948 - accuracy: 0.7422\n",
      "Epoch 176: saving model to model/keypoint_classifier/keypoint_classifier.hdf5\n",
      "29/29 [==============================] - 0s 3ms/step - loss: 0.4737 - accuracy: 0.8173 - val_loss: 0.1799 - val_accuracy: 0.9741\n",
      "Epoch 177/1000\n",
      " 1/29 [>.............................] - ETA: 0s - loss: 0.5057 - accuracy: 0.7891\n",
      "Epoch 177: saving model to model/keypoint_classifier/keypoint_classifier.hdf5\n",
      "29/29 [==============================] - 0s 3ms/step - loss: 0.4822 - accuracy: 0.8123 - val_loss: 0.1886 - val_accuracy: 0.9758\n",
      "Epoch 178/1000\n",
      " 1/29 [>.............................] - ETA: 0s - loss: 0.4763 - accuracy: 0.8359\n",
      "Epoch 178: saving model to model/keypoint_classifier/keypoint_classifier.hdf5\n",
      "29/29 [==============================] - 0s 3ms/step - loss: 0.4828 - accuracy: 0.8128 - val_loss: 0.1846 - val_accuracy: 0.9766\n",
      "Epoch 179/1000\n",
      " 1/29 [>.............................] - ETA: 0s - loss: 0.3984 - accuracy: 0.8438\n",
      "Epoch 179: saving model to model/keypoint_classifier/keypoint_classifier.hdf5\n",
      "29/29 [==============================] - 0s 3ms/step - loss: 0.4770 - accuracy: 0.8081 - val_loss: 0.1849 - val_accuracy: 0.9724\n",
      "Epoch 180/1000\n",
      " 1/29 [>.............................] - ETA: 0s - loss: 0.4496 - accuracy: 0.8516\n",
      "Epoch 180: saving model to model/keypoint_classifier/keypoint_classifier.hdf5\n",
      "29/29 [==============================] - 0s 2ms/step - loss: 0.4998 - accuracy: 0.8086 - val_loss: 0.1909 - val_accuracy: 0.9758\n",
      "Epoch 181/1000\n",
      " 1/29 [>.............................] - ETA: 0s - loss: 0.4967 - accuracy: 0.7891\n",
      "Epoch 181: saving model to model/keypoint_classifier/keypoint_classifier.hdf5\n",
      "29/29 [==============================] - 0s 3ms/step - loss: 0.4740 - accuracy: 0.8212 - val_loss: 0.1904 - val_accuracy: 0.9766\n",
      "Epoch 182/1000\n",
      " 1/29 [>.............................] - ETA: 0s - loss: 0.3862 - accuracy: 0.8516\n",
      "Epoch 182: saving model to model/keypoint_classifier/keypoint_classifier.hdf5\n",
      "29/29 [==============================] - 0s 3ms/step - loss: 0.4678 - accuracy: 0.8262 - val_loss: 0.1950 - val_accuracy: 0.9708\n",
      "Epoch 183/1000\n",
      " 1/29 [>.............................] - ETA: 0s - loss: 0.4065 - accuracy: 0.8281\n",
      "Epoch 183: saving model to model/keypoint_classifier/keypoint_classifier.hdf5\n",
      "29/29 [==============================] - 0s 3ms/step - loss: 0.4858 - accuracy: 0.8142 - val_loss: 0.1876 - val_accuracy: 0.9766\n",
      "Epoch 184/1000\n",
      " 1/29 [>.............................] - ETA: 0s - loss: 0.4397 - accuracy: 0.8047\n",
      "Epoch 184: saving model to model/keypoint_classifier/keypoint_classifier.hdf5\n",
      "29/29 [==============================] - 0s 3ms/step - loss: 0.4681 - accuracy: 0.8217 - val_loss: 0.1850 - val_accuracy: 0.9783\n",
      "Epoch 185/1000\n",
      " 1/29 [>.............................] - ETA: 0s - loss: 0.5534 - accuracy: 0.7969\n",
      "Epoch 185: saving model to model/keypoint_classifier/keypoint_classifier.hdf5\n",
      "29/29 [==============================] - 0s 3ms/step - loss: 0.4829 - accuracy: 0.8175 - val_loss: 0.1823 - val_accuracy: 0.9758\n",
      "Epoch 186/1000\n",
      " 1/29 [>.............................] - ETA: 0s - loss: 0.6464 - accuracy: 0.6953\n",
      "Epoch 186: saving model to model/keypoint_classifier/keypoint_classifier.hdf5\n",
      "29/29 [==============================] - 0s 3ms/step - loss: 0.4855 - accuracy: 0.8128 - val_loss: 0.1937 - val_accuracy: 0.9657\n",
      "Epoch 187/1000\n",
      " 1/29 [>.............................] - ETA: 0s - loss: 0.5784 - accuracy: 0.7656\n",
      "Epoch 187: saving model to model/keypoint_classifier/keypoint_classifier.hdf5\n",
      "29/29 [==============================] - 0s 3ms/step - loss: 0.4783 - accuracy: 0.8178 - val_loss: 0.1959 - val_accuracy: 0.9733\n",
      "Epoch 188/1000\n",
      " 1/29 [>.............................] - ETA: 0s - loss: 0.4990 - accuracy: 0.8281\n",
      "Epoch 188: saving model to model/keypoint_classifier/keypoint_classifier.hdf5\n",
      "29/29 [==============================] - 0s 3ms/step - loss: 0.4590 - accuracy: 0.8189 - val_loss: 0.1855 - val_accuracy: 0.9749\n",
      "Epoch 189/1000\n",
      " 1/29 [>.............................] - ETA: 0s - loss: 0.4547 - accuracy: 0.8047\n",
      "Epoch 189: saving model to model/keypoint_classifier/keypoint_classifier.hdf5\n",
      "29/29 [==============================] - 0s 3ms/step - loss: 0.4752 - accuracy: 0.8125 - val_loss: 0.1865 - val_accuracy: 0.9758\n"
     ]
    },
    {
     "name": "stdout",
     "output_type": "stream",
     "text": [
      "Epoch 190/1000\n",
      " 1/29 [>.............................] - ETA: 0s - loss: 0.5309 - accuracy: 0.8281\n",
      "Epoch 190: saving model to model/keypoint_classifier/keypoint_classifier.hdf5\n",
      "29/29 [==============================] - 0s 3ms/step - loss: 0.4608 - accuracy: 0.8159 - val_loss: 0.1890 - val_accuracy: 0.9733\n",
      "Epoch 191/1000\n",
      " 1/29 [>.............................] - ETA: 0s - loss: 0.5011 - accuracy: 0.7812\n",
      "Epoch 191: saving model to model/keypoint_classifier/keypoint_classifier.hdf5\n",
      "29/29 [==============================] - 0s 3ms/step - loss: 0.4829 - accuracy: 0.8095 - val_loss: 0.1863 - val_accuracy: 0.9741\n",
      "Epoch 192/1000\n",
      " 1/29 [>.............................] - ETA: 0s - loss: 0.3142 - accuracy: 0.8672\n",
      "Epoch 192: saving model to model/keypoint_classifier/keypoint_classifier.hdf5\n",
      "29/29 [==============================] - 0s 3ms/step - loss: 0.4621 - accuracy: 0.8206 - val_loss: 0.1914 - val_accuracy: 0.9699\n",
      "Epoch 193/1000\n",
      " 1/29 [>.............................] - ETA: 0s - loss: 0.7018 - accuracy: 0.7969\n",
      "Epoch 193: saving model to model/keypoint_classifier/keypoint_classifier.hdf5\n",
      "29/29 [==============================] - 0s 3ms/step - loss: 0.4734 - accuracy: 0.8136 - val_loss: 0.1865 - val_accuracy: 0.9733\n",
      "Epoch 193: early stopping\n"
     ]
    },
    {
     "data": {
      "text/plain": [
       "<keras.callbacks.History at 0x7f88e614fcd0>"
      ]
     },
     "execution_count": 13,
     "metadata": {},
     "output_type": "execute_result"
    }
   ],
   "source": [
    "model.fit(\n",
    "    X_train,\n",
    "    y_train,\n",
    "    epochs=1000,\n",
    "    batch_size=128,\n",
    "    validation_data=(X_test, y_test),\n",
    "    callbacks=[cp_callback, es_callback]\n",
    ")"
   ]
  },
  {
   "cell_type": "code",
   "execution_count": 14,
   "metadata": {
    "colab": {
     "base_uri": "https://localhost:8080/"
    },
    "id": "pxvb2Y299hE3",
    "outputId": "59eb3185-2e37-4b9e-bc9d-ab1b8ac29b7f"
   },
   "outputs": [
    {
     "name": "stdout",
     "output_type": "stream",
     "text": [
      "10/10 [==============================] - 0s 1ms/step - loss: 0.1865 - accuracy: 0.9733\n"
     ]
    }
   ],
   "source": [
    "# Model evaluation\n",
    "val_loss, val_acc = model.evaluate(X_test, y_test, batch_size=128)"
   ]
  },
  {
   "cell_type": "code",
   "execution_count": 15,
   "metadata": {
    "id": "RBkmDeUW9hE4"
   },
   "outputs": [],
   "source": [
    "# Loading the saved model\n",
    "model = tf.keras.models.load_model(model_save_path)"
   ]
  },
  {
   "cell_type": "code",
   "execution_count": 16,
   "metadata": {
    "colab": {
     "base_uri": "https://localhost:8080/"
    },
    "id": "tFz9Tb0I9hE4",
    "outputId": "1c3b3528-54ae-4ee2-ab04-77429211cbef",
    "scrolled": true
   },
   "outputs": [
    {
     "name": "stdout",
     "output_type": "stream",
     "text": [
      "[9.6139061e-01 3.8021911e-02 5.6139292e-04 2.6085407e-05]\n",
      "0\n"
     ]
    }
   ],
   "source": [
    "# Inference test\n",
    "predict_result = model.predict(np.array([X_test[0]]))\n",
    "print(np.squeeze(predict_result))\n",
    "print(np.argmax(np.squeeze(predict_result)))"
   ]
  },
  {
   "cell_type": "markdown",
   "metadata": {
    "id": "S3U4yNWx9hE4"
   },
   "source": [
    "# Confusion matrix"
   ]
  },
  {
   "cell_type": "code",
   "execution_count": 17,
   "metadata": {
    "colab": {
     "base_uri": "https://localhost:8080/",
     "height": 582
    },
    "id": "AP1V6SCk9hE5",
    "outputId": "08e41a80-7a4a-4619-8125-ecc371368d19"
   },
   "outputs": [
    {
     "data": {
      "image/png": "[encoded data removed]",
      "text/plain": [
       "<Figure size 504x432 with 2 Axes>"
      ]
     },
     "metadata": {
      "needs_background": "light"
     },
     "output_type": "display_data"
    },
    {
     "name": "stdout",
     "output_type": "stream",
     "text": [
      "Classification Report\n",
      "              precision    recall  f1-score   support\n",
      "\n",
      "           0       0.99      0.99      0.99       402\n",
      "           1       0.99      0.94      0.96       366\n",
      "           2       0.94      0.98      0.96       343\n",
      "           3       1.00      0.99      0.99        86\n",
      "\n",
      "    accuracy                           0.97      1197\n",
      "   macro avg       0.98      0.98      0.98      1197\n",
      "weighted avg       0.97      0.97      0.97      1197\n",
      "\n"
     ]
    }
   ],
   "source": [
    "import pandas as pd\n",
    "import seaborn as sns\n",
    "import matplotlib.pyplot as plt\n",
    "from sklearn.metrics import confusion_matrix, classification_report\n",
    "\n",
    "def print_confusion_matrix(y_true, y_pred, report=True):\n",
    "    labels = sorted(list(set(y_true)))\n",
    "    cmx_data = confusion_matrix(y_true, y_pred, labels=labels)\n",
    "    \n",
    "    df_cmx = pd.DataFrame(cmx_data, index=labels, columns=labels)\n",
    " \n",
    "    fig, ax = plt.subplots(figsize=(7, 6))\n",
    "    sns.heatmap(df_cmx, annot=True, fmt='g' ,square=False)\n",
    "    ax.set_ylim(len(set(y_true)), 0)\n",
    "    plt.show()\n",
    "    \n",
    "    if report:\n",
    "        print('Classification Report')\n",
    "        print(classification_report(y_test, y_pred))\n",
    "\n",
    "Y_pred = model.predict(X_test)\n",
    "y_pred = np.argmax(Y_pred, axis=1)\n",
    "\n",
    "print_confusion_matrix(y_test, y_pred)"
   ]
  },
  {
   "cell_type": "markdown",
   "metadata": {
    "id": "FNP6aqzc9hE5"
   },
   "source": [
    "# Convert to model for Tensorflow-Lite"
   ]
  },
  {
   "cell_type": "code",
   "execution_count": 18,
   "metadata": {
    "id": "ODjnYyld9hE6"
   },
   "outputs": [],
   "source": [
    "# Save as a model dedicated to inference\n",
    "model.save(model_save_path, include_optimizer=False)"
   ]
  },
  {
   "cell_type": "code",
   "execution_count": 19,
   "metadata": {
    "colab": {
     "base_uri": "https://localhost:8080/"
    },
    "id": "zRfuK8Y59hE6",
    "outputId": "a4ca585c-b5d5-4244-8291-8674063209bb"
   },
   "outputs": [
    {
     "name": "stderr",
     "output_type": "stream",
     "text": [
      "2022-06-10 12:20:45.955378: W tensorflow/python/util/util.cc:368] Sets are not currently considered sequences, but this may change in the future, so consider avoiding using them.\n"
     ]
    },
    {
     "name": "stdout",
     "output_type": "stream",
     "text": [
      "INFO:tensorflow:Assets written to: /tmp/tmpsnzwnpfc/assets\n"
     ]
    },
    {
     "name": "stderr",
     "output_type": "stream",
     "text": [
      "2022-06-10 12:20:47.886299: W tensorflow/compiler/mlir/lite/python/tf_tfl_flatbuffer_helpers.cc:357] Ignored output_format.\n",
      "2022-06-10 12:20:47.886348: W tensorflow/compiler/mlir/lite/python/tf_tfl_flatbuffer_helpers.cc:360] Ignored drop_control_dependency.\n",
      "WARNING:absl:Buffer deduplication procedure will be skipped when flatbuffer library is not properly loaded\n",
      "2022-06-10 12:20:47.887595: I tensorflow/cc/saved_model/reader.cc:43] Reading SavedModel from: /tmp/tmpsnzwnpfc\n",
      "2022-06-10 12:20:47.889691: I tensorflow/cc/saved_model/reader.cc:78] Reading meta graph with tags { serve }\n",
      "2022-06-10 12:20:47.889711: I tensorflow/cc/saved_model/reader.cc:119] Reading SavedModel debug info (if present) from: /tmp/tmpsnzwnpfc\n",
      "2022-06-10 12:20:47.895145: I tensorflow/cc/saved_model/loader.cc:228] Restoring SavedModel bundle.\n",
      "2022-06-10 12:20:48.025915: I tensorflow/cc/saved_model/loader.cc:212] Running initialization op on SavedModel bundle at path: /tmp/tmpsnzwnpfc\n",
      "2022-06-10 12:20:48.056205: I tensorflow/cc/saved_model/loader.cc:301] SavedModel load for tags { serve }; Status: success: OK. Took 168614 microseconds.\n",
      "2022-06-10 12:20:48.892206: I tensorflow/compiler/mlir/tensorflow/utils/dump_mlir_util.cc:237] disabling MLIR crash reproducer, set env var `MLIR_CRASH_REPRODUCER_DIRECTORY` to enable.\n",
      "2022-06-10 12:20:50.387494: I tensorflow/lite/tools/optimize/quantize_weights.cc:225] Skipping quantization of tensor sequential/dense/MatMul because it has fewer than 1024 elements (840).\n",
      "2022-06-10 12:20:50.387548: I tensorflow/lite/tools/optimize/quantize_weights.cc:225] Skipping quantization of tensor sequential/dense_1/MatMul because it has fewer than 1024 elements (200).\n",
      "2022-06-10 12:20:50.387561: I tensorflow/lite/tools/optimize/quantize_weights.cc:225] Skipping quantization of tensor sequential/dense_2/MatMul because it has fewer than 1024 elements (40).\n"
     ]
    },
    {
     "data": {
      "text/plain": [
       "6416"
      ]
     },
     "execution_count": 19,
     "metadata": {},
     "output_type": "execute_result"
    }
   ],
   "source": [
    "# Transform model (quantization)\n",
    "\n",
    "converter = tf.lite.TFLiteConverter.from_keras_model(model)\n",
    "converter.optimizations = [tf.lite.Optimize.DEFAULT]\n",
    "tflite_quantized_model = converter.convert()\n",
    "\n",
    "open(tflite_save_path, 'wb').write(tflite_quantized_model)"
   ]
  },
  {
   "cell_type": "markdown",
   "metadata": {
    "id": "CHBPBXdx9hE6"
   },
   "source": [
    "# Inference test"
   ]
  },
  {
   "cell_type": "code",
   "execution_count": 20,
   "metadata": {
    "id": "mGAzLocO9hE7"
   },
   "outputs": [
    {
     "name": "stderr",
     "output_type": "stream",
     "text": [
      "INFO: Created TensorFlow Lite XNNPACK delegate for CPU.\n"
     ]
    }
   ],
   "source": [
    "interpreter = tf.lite.Interpreter(model_path=tflite_save_path)\n",
    "interpreter.allocate_tensors()"
   ]
  },
  {
   "cell_type": "code",
   "execution_count": 21,
   "metadata": {
    "id": "oQuDK8YS9hE7"
   },
   "outputs": [],
   "source": [
    "# Get I / O tensor\n",
    "input_details = interpreter.get_input_details()\n",
    "output_details = interpreter.get_output_details()"
   ]
  },
  {
   "cell_type": "code",
   "execution_count": 22,
   "metadata": {
    "id": "2_ixAf_l9hE7"
   },
   "outputs": [],
   "source": [
    "interpreter.set_tensor(input_details[0]['index'], np.array([X_test[0]]))"
   ]
  },
  {
   "cell_type": "code",
   "execution_count": 23,
   "metadata": {
    "colab": {
     "base_uri": "https://localhost:8080/"
    },
    "id": "s4FoAnuc9hE7",
    "outputId": "91f18257-8d8b-4ef3-c558-e9b5f94fabbf",
    "scrolled": true
   },
   "outputs": [
    {
     "name": "stdout",
     "output_type": "stream",
     "text": [
      "CPU times: user 291 µs, sys: 56 µs, total: 347 µs\n",
      "Wall time: 624 µs\n"
     ]
    }
   ],
   "source": [
    "%%time\n",
    "# Inference implementation\n",
    "interpreter.invoke()\n",
    "tflite_results = interpreter.get_tensor(output_details[0]['index'])"
   ]
  },
  {
   "cell_type": "code",
   "execution_count": 24,
   "metadata": {
    "colab": {
     "base_uri": "https://localhost:8080/"
    },
    "id": "vONjp19J9hE8",
    "outputId": "77205e24-fd00-42c4-f7b6-e06e527c2cba"
   },
   "outputs": [
    {
     "name": "stdout",
     "output_type": "stream",
     "text": [
      "[9.6139061e-01 3.8021922e-02 5.6139240e-04 2.6085481e-05]\n",
      "0\n"
     ]
    }
   ],
   "source": [
    "print(np.squeeze(tflite_results))\n",
    "print(np.argmax(np.squeeze(tflite_results)))"
   ]
  },
  {
   "cell_type": "code",
   "execution_count": 25,
   "metadata": {},
   "outputs": [],
   "source": [
    "import sklearn"
   ]
  },
  {
   "cell_type": "code",
   "execution_count": 26,
   "metadata": {},
   "outputs": [
    {
     "name": "stdout",
     "output_type": "stream",
     "text": [
      "Classification accuracyon test dataset :  0.9732664995822891\n"
     ]
    }
   ],
   "source": [
    "print(\"Classification accuracyon test dataset : \", sklearn.metrics.accuracy_score(y_test,y_pred) )"
   ]
  }
 ],
 "metadata": {
  "accelerator": "GPU",
  "colab": {
   "collapsed_sections": [],
   "name": "keypoint_classification_EN.ipynb",
   "provenance": [],
   "toc_visible": true
  },
  "kernelspec": {
   "display_name": "Python 3 (ipykernel)",
   "language": "python",
   "name": "python3"
  },
  "language_info": {
   "codemirror_mode": {
    "name": "ipython",
    "version": 3
   },
   "file_extension": ".py",
   "mimetype": "text/x-python",
   "name": "python",
   "nbconvert_exporter": "python",
   "pygments_lexer": "ipython3",
   "version": "3.10.4"
  }
 },
 "nbformat": 4,
 "nbformat_minor": 1
}
